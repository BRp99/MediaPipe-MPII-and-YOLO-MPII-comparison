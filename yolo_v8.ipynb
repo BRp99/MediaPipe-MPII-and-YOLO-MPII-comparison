{
 "cells": [
  {
   "cell_type": "markdown",
   "id": "e37c3591-e1f7-4cd4-a39f-32a1952f0d8d",
   "metadata": {},
   "source": [
    "# Imports"
   ]
  },
  {
   "cell_type": "code",
   "execution_count": null,
   "id": "79924e74-5b0a-40af-9d6b-ba5635b5d554",
   "metadata": {},
   "outputs": [],
   "source": [
    "from ultralytics import YOLO\n",
    "import os\n",
    "from scipy.io import loadmat\n",
    "import numpy as np\n",
    "import shutil\n",
    "import math\n",
    "import scipy.io"
   ]
  },
  {
   "cell_type": "code",
   "execution_count": 43,
   "id": "68853317-f54f-47e1-9ce5-6d7163d6b94d",
   "metadata": {},
   "outputs": [
    {
     "name": "stdout",
     "output_type": "stream",
     "text": [
      "[array([[(array(['037454012.jpg'], dtype='<U13'),)]], dtype=[('name', 'O')]) array([[(array(['095071431.jpg'], dtype='<U13'),)]], dtype=[('name', 'O')]) array([[(array(['073199394.jpg'], dtype='<U13'),)]], dtype=[('name', 'O')]) array([[(array(['059865848.jpg'], dtype='<U13'),)]], dtype=[('name', 'O')])\n",
      " array([[(array(['015601864.jpg'], dtype='<U13'),)]], dtype=[('name', 'O')]) array([[(array(['015599452.jpg'], dtype='<U13'),)]], dtype=[('name', 'O')]) array([[(array(['005808361.jpg'], dtype='<U13'),)]], dtype=[('name', 'O')]) array([[(array(['086617615.jpg'], dtype='<U13'),)]], dtype=[('name', 'O')])\n",
      " array([[(array(['060111501.jpg'], dtype='<U13'),)]], dtype=[('name', 'O')]) array([[(array(['070807258.jpg'], dtype='<U13'),)]], dtype=[('name', 'O')])]\n"
     ]
    }
   ],
   "source": [
    "# load model YOLO v8\n",
    "model = YOLO(\"yolov8m-pose.pt\")\n",
    "\n",
    "# configurations\n",
    "N = 10\n",
    "MPII_IMAGES_DIR = \"./mpii/images\"\n",
    "IMAGE_FILES = [os.path.join(MPII_IMAGES_DIR, file) for file in os.listdir(MPII_IMAGES_DIR) if file.endswith(('.jpg'))][:N]\n",
    "yolo_images_dir = \"./YOLO_images\"\n",
    "\n",
    "count = 0\n",
    "results_list = []\n",
    "\n",
    "# USE ANNOTATION MPII\n",
    "annotations_data = loadmat(\"./mpii/annotations/mpii_human_pose.mat\")\n",
    "#print(\"annotations_data\", annotations_data)\n",
    "#annolist_test = annotations_data['RELEASE'] ['annolist']\n",
    "\n",
    "\n",
    "#print(\"Data Structure annolist test\", annolist_test)\n",
    "#name_images= annolist_test[0]['image']['name']\n",
    "#print(name_images)\n",
    "# annolist_test  tridimensional matrix\n",
    "##############################################################\n",
    "\n",
    "annolist = annotations_data['RELEASE'][0][0]['annolist'] \n",
    "\n",
    "\n",
    "for entry in annolist:\n",
    "    # get first 10 images names\n",
    "    image_names = entry['image'][:10]\n",
    "    print(image_names)\n",
    "\n",
    "\n",
    "\n",
    "\n",
    "\n",
    "\n",
    "\n",
    "########################################################################3"
   ]
  },
  {
   "cell_type": "code",
   "execution_count": 24,
   "id": "9f79776b-1281-4873-a855-b54ecbb233e2",
   "metadata": {},
   "outputs": [
    {
     "name": "stdout",
     "output_type": "stream",
     "text": [
      "\n",
      "image 1/1 C:\\Users\\bp111\\OneDrive\\Documentos\\Code\\MediaPipe-MPII-and-YOLO-MPII-comparison\\mpii\\images\\000111209.jpg: 480x640 1 person, 953.8ms\n",
      "Speed: 5.0ms preprocess, 953.8ms inference, 0.0ms postprocess per image at shape (1, 3, 480, 640)\n",
      "\n",
      "image 1/1 C:\\Users\\bp111\\OneDrive\\Documentos\\Code\\MediaPipe-MPII-and-YOLO-MPII-comparison\\mpii\\images\\000114595.jpg: 384x640 2 persons, 733.5ms\n",
      "Speed: 0.0ms preprocess, 733.5ms inference, 0.0ms postprocess per image at shape (1, 3, 384, 640)\n",
      "\n",
      "image 1/1 C:\\Users\\bp111\\OneDrive\\Documentos\\Code\\MediaPipe-MPII-and-YOLO-MPII-comparison\\mpii\\images\\000120361.jpg: 480x640 11 persons, 865.2ms\n",
      "Speed: 0.0ms preprocess, 865.2ms inference, 0.0ms postprocess per image at shape (1, 3, 480, 640)\n",
      "\n",
      "image 1/1 C:\\Users\\bp111\\OneDrive\\Documentos\\Code\\MediaPipe-MPII-and-YOLO-MPII-comparison\\mpii\\images\\000124344.jpg: 384x640 10 persons, 735.8ms\n",
      "Speed: 0.0ms preprocess, 735.8ms inference, 0.0ms postprocess per image at shape (1, 3, 384, 640)\n",
      "\n",
      "image 1/1 C:\\Users\\bp111\\OneDrive\\Documentos\\Code\\MediaPipe-MPII-and-YOLO-MPII-comparison\\mpii\\images\\000128443.jpg: 384x640 1 person, 649.5ms\n",
      "Speed: 7.0ms preprocess, 649.5ms inference, 1.0ms postprocess per image at shape (1, 3, 384, 640)\n",
      "\n",
      "image 1/1 C:\\Users\\bp111\\OneDrive\\Documentos\\Code\\MediaPipe-MPII-and-YOLO-MPII-comparison\\mpii\\images\\000131987.jpg: 480x640 1 person, 814.4ms\n",
      "Speed: 0.0ms preprocess, 814.4ms inference, 0.0ms postprocess per image at shape (1, 3, 480, 640)\n",
      "\n",
      "image 1/1 C:\\Users\\bp111\\OneDrive\\Documentos\\Code\\MediaPipe-MPII-and-YOLO-MPII-comparison\\mpii\\images\\000133364.jpg: 480x640 7 persons, 752.6ms\n",
      "Speed: 6.0ms preprocess, 752.6ms inference, 15.6ms postprocess per image at shape (1, 3, 480, 640)\n",
      "\n",
      "image 1/1 C:\\Users\\bp111\\OneDrive\\Documentos\\Code\\MediaPipe-MPII-and-YOLO-MPII-comparison\\mpii\\images\\000135363.jpg: 480x640 3 persons, 787.5ms\n",
      "Speed: 0.0ms preprocess, 787.5ms inference, 0.0ms postprocess per image at shape (1, 3, 480, 640)\n",
      "\n",
      "image 1/1 C:\\Users\\bp111\\OneDrive\\Documentos\\Code\\MediaPipe-MPII-and-YOLO-MPII-comparison\\mpii\\images\\000141822.jpg: 384x640 1 person, 680.3ms\n",
      "Speed: 0.0ms preprocess, 680.3ms inference, 0.0ms postprocess per image at shape (1, 3, 384, 640)\n",
      "\n",
      "image 1/1 C:\\Users\\bp111\\OneDrive\\Documentos\\Code\\MediaPipe-MPII-and-YOLO-MPII-comparison\\mpii\\images\\000142573.jpg: 384x640 1 person, 722.4ms\n",
      "Speed: 0.0ms preprocess, 722.4ms inference, 15.6ms postprocess per image at shape (1, 3, 384, 640)\n"
     ]
    }
   ],
   "source": [
    "for file in os.listdir(MPII_IMAGES_DIR):\n",
    "    if file.endswith('.jpg'):\n",
    "        image_file = os.path.join(MPII_IMAGES_DIR, file)\n",
    "        shutil.copy(image_file, yolo_images_dir)\n",
    "        \n",
    "        # execute detection for YOLO_images directory\n",
    "        results = model(source=image_file, show=False, conf=0.3, save=False)\n",
    "        results_list.append(results)\n",
    "        #print(\"RESULTS LIST\", results_list)\n",
    "        count += 1\n",
    "        if count >= N:\n",
    "            break"
   ]
  },
  {
   "cell_type": "code",
   "execution_count": 3,
   "id": "98b5203f-dc5b-43bf-aeb3-0440dcc19c5a",
   "metadata": {},
   "outputs": [],
   "source": [
    "# acess and print predictid keypoints\n",
    "for i,result in enumerate(results_list):\n",
    "    for r in result:\n",
    "        #print(len(result))\n",
    "        image_name = r.path.split('\\\\')[-1]\n",
    "        #print(f\"image {i+1} ({image_name})\")\n",
    "        xyn = r.keypoints.xyn\n",
    "        for j, pose in enumerate(xyn):\n",
    "            #print(f\"pose {j+1}\")\n",
    "            for k, landmark in enumerate(pose):\n",
    "                x, y = landmark\n",
    "                #print(f\"keypoints {k+1}:\\t ({x},\\t {y})\") \n",
    "\n"
   ]
  },
  {
   "cell_type": "code",
   "execution_count": null,
   "id": "b25f6578-490f-49a0-ac62-a1632a1739c8",
   "metadata": {},
   "outputs": [],
   "source": []
  }
 ],
 "metadata": {
  "kernelspec": {
   "display_name": "Python 3 (ipykernel)",
   "language": "python",
   "name": "python3"
  },
  "language_info": {
   "codemirror_mode": {
    "name": "ipython",
    "version": 3
   },
   "file_extension": ".py",
   "mimetype": "text/x-python",
   "name": "python",
   "nbconvert_exporter": "python",
   "pygments_lexer": "ipython3",
   "version": "3.11.0"
  }
 },
 "nbformat": 4,
 "nbformat_minor": 5
}
