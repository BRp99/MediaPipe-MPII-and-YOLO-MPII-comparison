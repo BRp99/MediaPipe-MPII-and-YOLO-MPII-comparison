{
 "cells": [
  {
   "cell_type": "markdown",
   "id": "e37c3591-e1f7-4cd4-a39f-32a1952f0d8d",
   "metadata": {},
   "source": [
    "# Imports"
   ]
  },
  {
   "cell_type": "code",
   "execution_count": 1,
   "id": "79924e74-5b0a-40af-9d6b-ba5635b5d554",
   "metadata": {},
   "outputs": [],
   "source": [
    "from ultralytics import YOLO\n",
    "import os\n",
    "from scipy.io import loadmat\n",
    "import numpy as np\n",
    "import shutil\n",
    "import math\n",
    "import scipy.io"
   ]
  },
  {
   "cell_type": "code",
   "execution_count": 46,
   "id": "68853317-f54f-47e1-9ce5-6d7163d6b94d",
   "metadata": {},
   "outputs": [],
   "source": [
    "# load model YOLO v8\n",
    "model = YOLO(\"yolov8m-pose.pt\")\n",
    "\n",
    "# configurations\n",
    "N = 10\n",
    "MPII_IMAGES_DIR = \"./mpii/images\"\n",
    "IMAGE_FILES = [os.path.join(MPII_IMAGES_DIR, file) for file in os.listdir(MPII_IMAGES_DIR) if file.endswith(('.jpg'))][:N]\n",
    "yolo_images_dir = \"./YOLO_images\"\n",
    "\n",
    "count = 0\n",
    "results_list = []\n"
   ]
  },
  {
   "cell_type": "code",
   "execution_count": 59,
   "id": "02c80210-60f6-423f-9a1f-23a6952add9d",
   "metadata": {},
   "outputs": [
    {
     "name": "stdout",
     "output_type": "stream",
     "text": [
      "IMAGE_NAME 037454012.jpg\n",
      "IMAGE PATH ./mpii/images\\037454012.jpg\n",
      "IMAGE_NAME 095071431.jpg\n",
      "IMAGE PATH ./mpii/images\\095071431.jpg\n",
      "IMAGE_NAME 073199394.jpg\n",
      "IMAGE PATH ./mpii/images\\073199394.jpg\n",
      "IMAGE_NAME 059865848.jpg\n",
      "IMAGE PATH ./mpii/images\\059865848.jpg\n",
      "IMAGE_NAME 015601864.jpg\n",
      "IMAGE PATH ./mpii/images\\015601864.jpg\n",
      "IMAGE_NAME 015599452.jpg\n",
      "IMAGE PATH ./mpii/images\\015599452.jpg\n",
      "IMAGE_NAME 005808361.jpg\n",
      "IMAGE PATH ./mpii/images\\005808361.jpg\n",
      "IMAGE_NAME 086617615.jpg\n",
      "IMAGE PATH ./mpii/images\\086617615.jpg\n",
      "IMAGE_NAME 060111501.jpg\n",
      "IMAGE PATH ./mpii/images\\060111501.jpg\n",
      "IMAGE_NAME 070807258.jpg\n",
      "IMAGE PATH ./mpii/images\\070807258.jpg\n"
     ]
    }
   ],
   "source": [
    "# USE ANNOTATION MPII\n",
    "annotations_data = loadmat(\"./mpii/annotations/mpii_human_pose.mat\")\n",
    "annolist = annotations_data['RELEASE'][0][0]['annolist'] \n",
    "#print(\"annotations_data\", annotations_data)\n",
    "#annolist_test = annotations_data['RELEASE'] ['annolist']\n",
    "\n",
    "\n",
    "#print(\"Data Structure annolist test\", annolist_test)\n",
    "#name_images= annolist_test[0]['image']['name']\n",
    "#print(name_images)\n",
    "# annolist_test  tridimensional matrix\n",
    "##############################################################\n",
    "#for entry in annolist:\n",
    "    #image_names = entry['image'][:10]\n",
    "    #print(\"IMAGE NAMES ANN\", image_names)\n",
    "#######################################################################\n",
    "# Iterar sobre as primeiras 10 entradas da lista de anotações\n",
    "#for entry in annolist[:10]:\n",
    "    # Extrair todos os dados da entrada\n",
    "    #image_data = entry['image'][:10]\n",
    "    #print(\"IMAGE DATA\", image_data)\n",
    "    # Como cada entrada pode conter múltiplas imagens (caso de múltiplas anotações para a mesma imagem),\n",
    "    # vamos iterar sobre essas imagens\n",
    "    #for img in image_data:\n",
    "        #image_name = img['name'][0][0]  # Obtendo o nome da imagem\n",
    "        #print(\"Image NAME:\", image_name)\n",
    "#############################################################################\n",
    "# Iterar sobre as primeiras 10 entradas da lista de anotações\n",
    "for entry in annolist[:10]:\n",
    "    # Extrair todos os dados da entrada\n",
    "    image_data = entry['image'][:10]\n",
    "    #print(\"IMAGE DATA\", image_data)\n",
    "\n",
    "    # each entry can contain multiple images (case of multiple annotations for the same image). iterate over these images\n",
    "    for img_info in image_data:\n",
    "        image_name = img_info['name'][0][0] \n",
    "        image_name = image_name.item()  # Convert to string\n",
    "        print(\"IMAGE_NAME\", image_name)\n",
    "        image_path = os.path.join(MPII_IMAGES_DIR, image_name)\n",
    "        print(\"IMAGE PATH\", image_path)\n"
   ]
  },
  {
   "cell_type": "code",
   "execution_count": 3,
   "id": "9f79776b-1281-4873-a855-b54ecbb233e2",
   "metadata": {},
   "outputs": [
    {
     "name": "stdout",
     "output_type": "stream",
     "text": [
      "\n",
      "image 1/1 C:\\Users\\bp111\\OneDrive\\Documentos\\Code\\MediaPipe-MPII-and-YOLO-MPII-comparison\\mpii\\images\\000111209.jpg: 480x640 1 person, 854.7ms\n",
      "Speed: 0.0ms preprocess, 854.7ms inference, 0.0ms postprocess per image at shape (1, 3, 480, 640)\n",
      "\n",
      "image 1/1 C:\\Users\\bp111\\OneDrive\\Documentos\\Code\\MediaPipe-MPII-and-YOLO-MPII-comparison\\mpii\\images\\000114595.jpg: 384x640 2 persons, 710.9ms\n",
      "Speed: 2.3ms preprocess, 710.9ms inference, 0.0ms postprocess per image at shape (1, 3, 384, 640)\n",
      "\n",
      "image 1/1 C:\\Users\\bp111\\OneDrive\\Documentos\\Code\\MediaPipe-MPII-and-YOLO-MPII-comparison\\mpii\\images\\000120361.jpg: 480x640 11 persons, 743.0ms\n",
      "Speed: 1.6ms preprocess, 743.0ms inference, 39.6ms postprocess per image at shape (1, 3, 480, 640)\n",
      "\n",
      "image 1/1 C:\\Users\\bp111\\OneDrive\\Documentos\\Code\\MediaPipe-MPII-and-YOLO-MPII-comparison\\mpii\\images\\000124344.jpg: 384x640 10 persons, 716.6ms\n",
      "Speed: 0.0ms preprocess, 716.6ms inference, 0.0ms postprocess per image at shape (1, 3, 384, 640)\n",
      "\n",
      "image 1/1 C:\\Users\\bp111\\OneDrive\\Documentos\\Code\\MediaPipe-MPII-and-YOLO-MPII-comparison\\mpii\\images\\000128443.jpg: 384x640 1 person, 628.1ms\n",
      "Speed: 0.0ms preprocess, 628.1ms inference, 0.0ms postprocess per image at shape (1, 3, 384, 640)\n",
      "\n",
      "image 1/1 C:\\Users\\bp111\\OneDrive\\Documentos\\Code\\MediaPipe-MPII-and-YOLO-MPII-comparison\\mpii\\images\\000131987.jpg: 480x640 1 person, 781.7ms\n",
      "Speed: 2.0ms preprocess, 781.7ms inference, 0.0ms postprocess per image at shape (1, 3, 480, 640)\n",
      "\n",
      "image 1/1 C:\\Users\\bp111\\OneDrive\\Documentos\\Code\\MediaPipe-MPII-and-YOLO-MPII-comparison\\mpii\\images\\000133364.jpg: 480x640 7 persons, 838.8ms\n",
      "Speed: 0.0ms preprocess, 838.8ms inference, 3.5ms postprocess per image at shape (1, 3, 480, 640)\n",
      "\n",
      "image 1/1 C:\\Users\\bp111\\OneDrive\\Documentos\\Code\\MediaPipe-MPII-and-YOLO-MPII-comparison\\mpii\\images\\000135363.jpg: 480x640 3 persons, 764.0ms\n",
      "Speed: 4.3ms preprocess, 764.0ms inference, 3.7ms postprocess per image at shape (1, 3, 480, 640)\n",
      "\n",
      "image 1/1 C:\\Users\\bp111\\OneDrive\\Documentos\\Code\\MediaPipe-MPII-and-YOLO-MPII-comparison\\mpii\\images\\000141822.jpg: 384x640 1 person, 624.3ms\n",
      "Speed: 6.5ms preprocess, 624.3ms inference, 15.6ms postprocess per image at shape (1, 3, 384, 640)\n",
      "\n",
      "image 1/1 C:\\Users\\bp111\\OneDrive\\Documentos\\Code\\MediaPipe-MPII-and-YOLO-MPII-comparison\\mpii\\images\\000142573.jpg: 384x640 1 person, 564.0ms\n",
      "Speed: 0.0ms preprocess, 564.0ms inference, 0.0ms postprocess per image at shape (1, 3, 384, 640)\n"
     ]
    }
   ],
   "source": [
    "for file in os.listdir(MPII_IMAGES_DIR):\n",
    "    if file.endswith('.jpg'):\n",
    "        image_file = os.path.join(MPII_IMAGES_DIR, file)\n",
    "        shutil.copy(image_file, yolo_images_dir)\n",
    "        \n",
    "        # execute detection for YOLO_images directory\n",
    "        results = model(source=image_file, show=False, conf=0.3, save=False)\n",
    "        results_list.append(results)\n",
    "        #print(\"RESULTS LIST\", results_list)\n",
    "        count += 1\n",
    "        if count >= N:\n",
    "            break"
   ]
  },
  {
   "cell_type": "code",
   "execution_count": 3,
   "id": "98b5203f-dc5b-43bf-aeb3-0440dcc19c5a",
   "metadata": {},
   "outputs": [],
   "source": [
    "# acess and print predictid keypoints MODEL YOLO\n",
    "for i,result in enumerate(results_list):\n",
    "    for r in result:\n",
    "        #print(len(result))\n",
    "        image_name = r.path.split('\\\\')[-1]\n",
    "        #print(f\"image {i+1} ({image_name})\")\n",
    "        xyn = r.keypoints.xyn\n",
    "        for j, pose in enumerate(xyn):\n",
    "            #print(f\"pose {j+1}\")\n",
    "            for k, landmark in enumerate(pose):\n",
    "                x, y = landmark\n",
    "                #print(f\"keypoints {k+1}:\\t ({x},\\t {y})\") \n",
    "\n"
   ]
  },
  {
   "cell_type": "code",
   "execution_count": null,
   "id": "b25f6578-490f-49a0-ac62-a1632a1739c8",
   "metadata": {},
   "outputs": [],
   "source": []
  }
 ],
 "metadata": {
  "kernelspec": {
   "display_name": "Python 3 (ipykernel)",
   "language": "python",
   "name": "python3"
  },
  "language_info": {
   "codemirror_mode": {
    "name": "ipython",
    "version": 3
   },
   "file_extension": ".py",
   "mimetype": "text/x-python",
   "name": "python",
   "nbconvert_exporter": "python",
   "pygments_lexer": "ipython3",
   "version": "3.11.0"
  }
 },
 "nbformat": 4,
 "nbformat_minor": 5
}
