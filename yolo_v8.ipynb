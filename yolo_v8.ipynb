{
 "cells": [
  {
   "cell_type": "markdown",
   "id": "e37c3591-e1f7-4cd4-a39f-32a1952f0d8d",
   "metadata": {},
   "source": [
    "# Imports"
   ]
  },
  {
   "cell_type": "code",
   "execution_count": 2,
   "id": "79924e74-5b0a-40af-9d6b-ba5635b5d554",
   "metadata": {},
   "outputs": [],
   "source": [
    "from ultralytics import YOLO\n",
    "import os\n",
    "from scipy.io import loadmat\n",
    "import numpy as np"
   ]
  },
  {
   "cell_type": "code",
   "execution_count": 13,
   "id": "98b5203f-dc5b-43bf-aeb3-0440dcc19c5a",
   "metadata": {},
   "outputs": [
    {
     "name": "stdout",
     "output_type": "stream",
     "text": [
      "\n",
      "image 1/1 C:\\Users\\bp111\\OneDrive\\Documentos\\Code\\MediaPipe-MPII-and-YOLO-MPII-comparison\\mpii\\images\\000001163.jpg: 384x640 2 persons, 579.8ms\n",
      "Speed: 17.1ms preprocess, 579.8ms inference, 0.0ms postprocess per image at shape (1, 3, 384, 640)\n",
      "\n",
      "image 1/1 C:\\Users\\bp111\\OneDrive\\Documentos\\Code\\MediaPipe-MPII-and-YOLO-MPII-comparison\\mpii\\images\\000003072.jpg: 384x640 3 persons, 566.0ms\n",
      "Speed: 0.0ms preprocess, 566.0ms inference, 0.0ms postprocess per image at shape (1, 3, 384, 640)\n",
      "\n",
      "image 1/1 C:\\Users\\bp111\\OneDrive\\Documentos\\Code\\MediaPipe-MPII-and-YOLO-MPII-comparison\\mpii\\images\\000004812.jpg: 384x640 1 person, 643.0ms\n",
      "Speed: 3.0ms preprocess, 643.0ms inference, 0.0ms postprocess per image at shape (1, 3, 384, 640)\n",
      "\n",
      "image 1/1 C:\\Users\\bp111\\OneDrive\\Documentos\\Code\\MediaPipe-MPII-and-YOLO-MPII-comparison\\mpii\\images\\000005283.jpg: 384x640 2 persons, 644.4ms\n",
      "Speed: 4.0ms preprocess, 644.4ms inference, 0.0ms postprocess per image at shape (1, 3, 384, 640)\n",
      "\n",
      "image 1/1 C:\\Users\\bp111\\OneDrive\\Documentos\\Code\\MediaPipe-MPII-and-YOLO-MPII-comparison\\mpii\\images\\000013469.jpg: 384x640 1 person, 593.8ms\n",
      "Speed: 2.9ms preprocess, 593.8ms inference, 15.6ms postprocess per image at shape (1, 3, 384, 640)\n",
      "\n",
      "image 1/1 C:\\Users\\bp111\\OneDrive\\Documentos\\Code\\MediaPipe-MPII-and-YOLO-MPII-comparison\\mpii\\images\\000015774.jpg: 384x640 1 person, 600.7ms\n",
      "Speed: 16.3ms preprocess, 600.7ms inference, 0.0ms postprocess per image at shape (1, 3, 384, 640)\n",
      "\n",
      "image 1/1 C:\\Users\\bp111\\OneDrive\\Documentos\\Code\\MediaPipe-MPII-and-YOLO-MPII-comparison\\mpii\\images\\000022704.jpg: 384x640 9 persons, 573.4ms\n",
      "Speed: 3.0ms preprocess, 573.4ms inference, 0.0ms postprocess per image at shape (1, 3, 384, 640)\n",
      "\n",
      "image 1/1 C:\\Users\\bp111\\OneDrive\\Documentos\\Code\\MediaPipe-MPII-and-YOLO-MPII-comparison\\mpii\\images\\000024087.jpg: 384x640 1 person, 535.8ms\n",
      "Speed: 2.9ms preprocess, 535.8ms inference, 0.0ms postprocess per image at shape (1, 3, 384, 640)\n",
      "\n",
      "image 1/1 C:\\Users\\bp111\\OneDrive\\Documentos\\Code\\MediaPipe-MPII-and-YOLO-MPII-comparison\\mpii\\images\\000024100.jpg: 384x640 3 persons, 594.6ms\n",
      "Speed: 0.6ms preprocess, 594.6ms inference, 15.6ms postprocess per image at shape (1, 3, 384, 640)\n",
      "\n",
      "image 1/1 C:\\Users\\bp111\\OneDrive\\Documentos\\Code\\MediaPipe-MPII-and-YOLO-MPII-comparison\\mpii\\images\\000024293.jpg: 384x640 1 person, 600.2ms\n",
      "Speed: 2.3ms preprocess, 600.2ms inference, 0.0ms postprocess per image at shape (1, 3, 384, 640)\n",
      "imgidxs_multi_test [[array([[1]], dtype=uint8)], [array([[1],\n",
      "       [2]], dtype=uint8)], [array([[1]], dtype=uint8)], [array([[1]], dtype=uint8)], [array([[1]], dtype=uint8)], [array([[3]], dtype=uint8)], [array([[1],\n",
      "       [2]], dtype=uint8)], [array([[1],\n",
      "       [2]], dtype=uint8)], [array([[1]], dtype=uint8)], [array([[1],\n",
      "       [2]], dtype=uint8)]]\n",
      "rectidxs_multi_test [[[]], [[]], [[]], [[]], [array([[2]], dtype=uint8)], [array([[1],\n",
      "       [2]], dtype=uint8)], [[]], [[]], [[]], [[]]]\n",
      "actual structure of imgidxs_multi_test:\n",
      "<class 'list'>\n"
     ]
    }
   ],
   "source": [
    "# load model\n",
    "model = YOLO(\"yolov8m-pose.pt\")\n",
    "\n",
    "# configurations\n",
    "N = 10\n",
    "MPII_IMAGES_DIR = \"./mpii/images\"\n",
    "IMAGE_FILES = [os.path.join(MPII_IMAGES_DIR, file) for file in os.listdir(MPII_IMAGES_DIR) if file.endswith(('.jpg'))][:N]\n",
    "\n",
    "\n",
    "results_list = []\n",
    "# iterate for each image\n",
    "for image_file in IMAGE_FILES:\n",
    "    # execute\n",
    "    results = model(source=image_file, show=False, conf=0.3, save=False)\n",
    "    results_list.append(results)\n",
    "del model\n",
    "\n",
    "# USE ANNOTATION MPII\n",
    "\n",
    "annotations_data = loadmat(\"./mpii/annotations/mpii_human_pose.mat\")\n",
    "annolist_test = annotations_data['RELEASE'] ['annolist']\n",
    "#print(\"Data Structure Annolist Test\", annolist_test) \n",
    "# annolist_test  two-dimensional array of structure\n",
    "\n",
    "\n",
    "# extract groups of people\n",
    "# here I extract groups of people using the getMultiPersonGroups function from the MPII assessment toolset. This is done by loading the groups from a previously generated file.\n",
    "data = loadmat('./mpii/eval/groups_v12.mat')\n",
    "groups = data[\"groups\"]\n",
    "\n",
    "# Load and use getMultiPersonGroups function\n",
    "def getMultiPersonGroups(groups, release_data):\n",
    "    imgidxs_multi_test = []\n",
    "    rectidxs_multi_test = []\n",
    "    for group in groups:\n",
    "        imgidxs = []\n",
    "        rectidxs = []\n",
    "        for item in group:\n",
    "            if len(item) == 0:  # check if item is empthy\n",
    "                continue\n",
    "            if len(item[0]) > 0:\n",
    "                imgidxs.append(item[0][0])\n",
    "            if len(item[0]) > 1:\n",
    "                rectidxs.append(item[0][1])\n",
    "            else:\n",
    "                rectidxs.append([])\n",
    "        imgidxs_multi_test.append(imgidxs)\n",
    "        rectidxs_multi_test.append(rectidxs)\n",
    "    return imgidxs_multi_test, rectidxs_multi_test\n",
    "\n",
    "\n",
    "imgidxs_multi_test, rectidxs_multi_test = getMultiPersonGroups(groups, annotations_data['RELEASE'])\n",
    "########################################################################\n",
    "print(\"imgidxs_multi_test\", imgidxs_multi_test[:10])\n",
    "print(\"rectidxs_multi_test\", rectidxs_multi_test[:10])\n",
    "print(\"actual structure of imgidxs_multi_test:\")\n",
    "print(type(imgidxs_multi_test))  \n",
    "#######################################################################"
   ]
  },
  {
   "cell_type": "code",
   "execution_count": null,
   "id": "db95dcc3-7f69-4a01-a873-388c606f4ed8",
   "metadata": {},
   "outputs": [],
   "source": []
  }
 ],
 "metadata": {
  "kernelspec": {
   "display_name": "Python 3 (ipykernel)",
   "language": "python",
   "name": "python3"
  },
  "language_info": {
   "codemirror_mode": {
    "name": "ipython",
    "version": 3
   },
   "file_extension": ".py",
   "mimetype": "text/x-python",
   "name": "python",
   "nbconvert_exporter": "python",
   "pygments_lexer": "ipython3",
   "version": "3.11.0"
  }
 },
 "nbformat": 4,
 "nbformat_minor": 5
}
