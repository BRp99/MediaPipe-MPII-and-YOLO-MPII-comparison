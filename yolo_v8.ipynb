{
 "cells": [
  {
   "cell_type": "markdown",
   "id": "e37c3591-e1f7-4cd4-a39f-32a1952f0d8d",
   "metadata": {},
   "source": [
    "# Imports"
   ]
  },
  {
   "cell_type": "code",
   "execution_count": 1,
   "id": "79924e74-5b0a-40af-9d6b-ba5635b5d554",
   "metadata": {},
   "outputs": [],
   "source": [
    "from ultralytics import YOLO\n",
    "import os"
   ]
  },
  {
   "cell_type": "code",
   "execution_count": 9,
   "id": "98b5203f-dc5b-43bf-aeb3-0440dcc19c5a",
   "metadata": {},
   "outputs": [
    {
     "name": "stdout",
     "output_type": "stream",
     "text": [
      "\n",
      "image 1/1 C:\\Users\\bp111\\OneDrive\\Documentos\\Code\\MediaPipe-MPII-and-YOLO-MPII-comparison\\mpii\\images\\000001163.jpg: 384x640 2 persons, 617.5ms\n",
      "Speed: 0.0ms preprocess, 617.5ms inference, 0.0ms postprocess per image at shape (1, 3, 384, 640)\n",
      "Results saved to \u001b[1mruns\\pose\\predict\u001b[0m\n"
     ]
    },
    {
     "ename": "AttributeError",
     "evalue": "'list' object has no attribute 'xyxy'",
     "output_type": "error",
     "traceback": [
      "\u001b[1;31m---------------------------------------------------------------------------\u001b[0m",
      "\u001b[1;31mAttributeError\u001b[0m                            Traceback (most recent call last)",
      "Cell \u001b[1;32mIn[9], line 14\u001b[0m\n\u001b[0;32m     10\u001b[0m \u001b[38;5;28;01mfor\u001b[39;00m image_file \u001b[38;5;129;01min\u001b[39;00m IMAGE_FILES:\n\u001b[0;32m     11\u001b[0m     \u001b[38;5;66;03m# execute inference\u001b[39;00m\n\u001b[0;32m     12\u001b[0m     results \u001b[38;5;241m=\u001b[39m model(source\u001b[38;5;241m=\u001b[39m image_file, show \u001b[38;5;241m=\u001b[39m \u001b[38;5;28;01mTrue\u001b[39;00m, conf \u001b[38;5;241m=\u001b[39m \u001b[38;5;241m0.3\u001b[39m, save \u001b[38;5;241m=\u001b[39m \u001b[38;5;28;01mTrue\u001b[39;00m)\n\u001b[1;32m---> 14\u001b[0m     \u001b[38;5;28;01mdel\u001b[39;00m \u001b[43mresults\u001b[49m\u001b[38;5;241;43m.\u001b[39;49m\u001b[43mxyxy\u001b[49m\n\u001b[0;32m     16\u001b[0m     \u001b[38;5;28;01mdel\u001b[39;00m model\n",
      "\u001b[1;31mAttributeError\u001b[0m: 'list' object has no attribute 'xyxy'"
     ]
    }
   ],
   "source": [
    "# load model\n",
    "model = YOLO(\"yolov8m-pose.pt\")\n",
    "\n",
    "# configurations\n",
    "N = 10\n",
    "MPII_IMAGES_DIR = \"./mpii/images\"\n",
    "IMAGE_FILES = [os.path.join(MPII_IMAGES_DIR, file) for file in os.listdir(MPII_IMAGES_DIR) if file.endswith(('.jpg'))][:N]\n",
    "\n",
    "# iterate for each image\n",
    "for image_file in IMAGE_FILES:\n",
    "    # execute inference\n",
    "    results = model(source= image_file, show = True, conf = 0.3, save = True)\n",
    "\n",
    "    del results.xyxy\n",
    "\n",
    "    del model"
   ]
  },
  {
   "cell_type": "code",
   "execution_count": null,
   "id": "db95dcc3-7f69-4a01-a873-388c606f4ed8",
   "metadata": {},
   "outputs": [],
   "source": []
  }
 ],
 "metadata": {
  "kernelspec": {
   "display_name": "Python 3 (ipykernel)",
   "language": "python",
   "name": "python3"
  },
  "language_info": {
   "codemirror_mode": {
    "name": "ipython",
    "version": 3
   },
   "file_extension": ".py",
   "mimetype": "text/x-python",
   "name": "python",
   "nbconvert_exporter": "python",
   "pygments_lexer": "ipython3",
   "version": "3.11.0"
  }
 },
 "nbformat": 4,
 "nbformat_minor": 5
}
