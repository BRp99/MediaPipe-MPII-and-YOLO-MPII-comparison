{
 "cells": [
  {
   "cell_type": "markdown",
   "id": "e37c3591-e1f7-4cd4-a39f-32a1952f0d8d",
   "metadata": {},
   "source": [
    "# Imports"
   ]
  },
  {
   "cell_type": "code",
   "execution_count": 8,
   "id": "79924e74-5b0a-40af-9d6b-ba5635b5d554",
   "metadata": {},
   "outputs": [],
   "source": [
    "from ultralytics import YOLO\n",
    "import os\n",
    "from scipy.io import loadmat\n",
    "import numpy as np\n",
    "import shutil"
   ]
  },
  {
   "cell_type": "code",
   "execution_count": 28,
   "id": "98b5203f-dc5b-43bf-aeb3-0440dcc19c5a",
   "metadata": {},
   "outputs": [
    {
     "name": "stdout",
     "output_type": "stream",
     "text": [
      "\n",
      "image 1/1 C:\\Users\\bp111\\OneDrive\\Documentos\\Code\\MediaPipe-MPII-and-YOLO-MPII-comparison\\mpii\\images\\000111209.jpg: 480x640 1 person, 814.5ms\n",
      "Speed: 4.1ms preprocess, 814.5ms inference, 1.0ms postprocess per image at shape (1, 3, 480, 640)\n",
      "Results saved to \u001b[1mruns\\pose\\predict\u001b[0m\n",
      "\n",
      "image 1/1 C:\\Users\\bp111\\OneDrive\\Documentos\\Code\\MediaPipe-MPII-and-YOLO-MPII-comparison\\mpii\\images\\000114595.jpg: 384x640 2 persons, 665.7ms\n",
      "Speed: 3.7ms preprocess, 665.7ms inference, 0.0ms postprocess per image at shape (1, 3, 384, 640)\n",
      "Results saved to \u001b[1mruns\\pose\\predict\u001b[0m\n",
      "\n",
      "image 1/1 C:\\Users\\bp111\\OneDrive\\Documentos\\Code\\MediaPipe-MPII-and-YOLO-MPII-comparison\\mpii\\images\\000120361.jpg: 480x640 11 persons, 792.8ms\n",
      "Speed: 0.0ms preprocess, 792.8ms inference, 0.0ms postprocess per image at shape (1, 3, 480, 640)\n",
      "Results saved to \u001b[1mruns\\pose\\predict\u001b[0m\n",
      "\n",
      "image 1/1 C:\\Users\\bp111\\OneDrive\\Documentos\\Code\\MediaPipe-MPII-and-YOLO-MPII-comparison\\mpii\\images\\000124344.jpg: 384x640 10 persons, 664.8ms\n",
      "Speed: 0.0ms preprocess, 664.8ms inference, 0.0ms postprocess per image at shape (1, 3, 384, 640)\n",
      "Results saved to \u001b[1mruns\\pose\\predict\u001b[0m\n",
      "\n",
      "image 1/1 C:\\Users\\bp111\\OneDrive\\Documentos\\Code\\MediaPipe-MPII-and-YOLO-MPII-comparison\\mpii\\images\\000128443.jpg: 384x640 1 person, 663.7ms\n",
      "Speed: 0.0ms preprocess, 663.7ms inference, 0.0ms postprocess per image at shape (1, 3, 384, 640)\n",
      "Results saved to \u001b[1mruns\\pose\\predict\u001b[0m\n",
      "\n",
      "image 1/1 C:\\Users\\bp111\\OneDrive\\Documentos\\Code\\MediaPipe-MPII-and-YOLO-MPII-comparison\\mpii\\images\\000131987.jpg: 480x640 1 person, 864.2ms\n",
      "Speed: 0.0ms preprocess, 864.2ms inference, 0.0ms postprocess per image at shape (1, 3, 480, 640)\n",
      "Results saved to \u001b[1mruns\\pose\\predict\u001b[0m\n",
      "\n",
      "image 1/1 C:\\Users\\bp111\\OneDrive\\Documentos\\Code\\MediaPipe-MPII-and-YOLO-MPII-comparison\\mpii\\images\\000133364.jpg: 480x640 7 persons, 774.6ms\n",
      "Speed: 0.0ms preprocess, 774.6ms inference, 0.0ms postprocess per image at shape (1, 3, 480, 640)\n",
      "Results saved to \u001b[1mruns\\pose\\predict\u001b[0m\n",
      "\n",
      "image 1/1 C:\\Users\\bp111\\OneDrive\\Documentos\\Code\\MediaPipe-MPII-and-YOLO-MPII-comparison\\mpii\\images\\000135363.jpg: 480x640 3 persons, 725.6ms\n",
      "Speed: 0.0ms preprocess, 725.6ms inference, 0.0ms postprocess per image at shape (1, 3, 480, 640)\n",
      "Results saved to \u001b[1mruns\\pose\\predict\u001b[0m\n",
      "\n",
      "image 1/1 C:\\Users\\bp111\\OneDrive\\Documentos\\Code\\MediaPipe-MPII-and-YOLO-MPII-comparison\\mpii\\images\\000141822.jpg: 384x640 1 person, 635.9ms\n",
      "Speed: 0.0ms preprocess, 635.9ms inference, 0.0ms postprocess per image at shape (1, 3, 384, 640)\n",
      "Results saved to \u001b[1mruns\\pose\\predict\u001b[0m\n",
      "\n",
      "image 1/1 C:\\Users\\bp111\\OneDrive\\Documentos\\Code\\MediaPipe-MPII-and-YOLO-MPII-comparison\\mpii\\images\\000142573.jpg: 384x640 1 person, 639.4ms\n",
      "Speed: 3.0ms preprocess, 639.4ms inference, 0.7ms postprocess per image at shape (1, 3, 384, 640)\n",
      "Results saved to \u001b[1mruns\\pose\\predict\u001b[0m\n"
     ]
    }
   ],
   "source": [
    "# load model YOLO v8\n",
    "model = YOLO(\"yolov8m-pose.pt\")\n",
    "\n",
    "# configurations\n",
    "N = 10\n",
    "MPII_IMAGES_DIR = \"./mpii/images\"\n",
    "#IMAGE_FILES = [os.path.join(MPII_IMAGES_DIR, file) for file in os.listdir(MPII_IMAGES_DIR) if file.endswith(('.jpg'))][:N]\n",
    "yolo_images_dir = \"./YOLO_images\"\n",
    "\n",
    "count = 0\n",
    "results_list = []\n",
    "\n",
    "\n",
    "for file in os.listdir(MPII_IMAGES_DIR):\n",
    "    if file.endswith('.jpg'):\n",
    "        image_file = os.path.join(MPII_IMAGES_DIR, file)\n",
    "        \n",
    "        # Copiar a imagem para o diretório YOLO_images\n",
    "        shutil.copy(image_file, yolo_images_dir)\n",
    "        \n",
    "        # Executar a detecção de pose no modelo YOLOv8\n",
    "        results = model(source=image_file, show=False, conf=0.3, save=False)\n",
    "        results_list.append(results)\n",
    "        \n",
    "        count += 1\n",
    "        if count >= N:\n",
    "            break\n",
    "\n",
    "# Liberar memória\n",
    "del model\n",
    "\n",
    "\n",
    "# USE ANNOTATION MPII\n",
    "annotations_data = loadmat(\"./mpii/annotations/mpii_human_pose.mat\")\n",
    "\n",
    "annolist_test = annotations_data['RELEASE'] ['annolist']\n",
    "#print(\"Data Structure Annolist Test\", annolist_test)\n",
    "# annolist_test  two-dimensional array of structure\n",
    "\n",
    "\n",
    "\n",
    "# extract groups of people\n",
    "# here I extract groups of people using the getMultiPersonGroups function from the MPII assessment toolset. This is done by loading the groups from a previously generated file.\n",
    "#data = loadmat('./mpii/eval/groups_v12.mat')\n",
    "#groups = data[\"groups\"]"
   ]
  },
  {
   "cell_type": "code",
   "execution_count": null,
   "id": "db95dcc3-7f69-4a01-a873-388c606f4ed8",
   "metadata": {},
   "outputs": [],
   "source": []
  }
 ],
 "metadata": {
  "kernelspec": {
   "display_name": "Python 3 (ipykernel)",
   "language": "python",
   "name": "python3"
  },
  "language_info": {
   "codemirror_mode": {
    "name": "ipython",
    "version": 3
   },
   "file_extension": ".py",
   "mimetype": "text/x-python",
   "name": "python",
   "nbconvert_exporter": "python",
   "pygments_lexer": "ipython3",
   "version": "3.11.0"
  }
 },
 "nbformat": 4,
 "nbformat_minor": 5
}
