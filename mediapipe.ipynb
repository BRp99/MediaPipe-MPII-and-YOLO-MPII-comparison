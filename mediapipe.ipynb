{
 "cells": [
  {
   "cell_type": "markdown",
   "id": "2057f7c8-bfee-4851-a45e-243847fe7c10",
   "metadata": {},
   "source": [
    "# Imports"
   ]
  },
  {
   "cell_type": "code",
   "execution_count": 48,
   "id": "6b01c865-7e49-4357-84c0-e98bf19873bd",
   "metadata": {},
   "outputs": [],
   "source": [
    "import os\n",
    "import mediapipe as mp\n",
    "import cv2\n",
    "import numpy as np\n",
    "from mediapipe.tasks import python\n",
    "from mediapipe.tasks.python import vision"
   ]
  },
  {
   "cell_type": "code",
   "execution_count": 53,
   "id": "30f78493-d08c-4824-b358-08fe5e3ca71e",
   "metadata": {},
   "outputs": [
    {
     "name": "stdout",
     "output_type": "stream",
     "text": [
      "None\n",
      "['./mpii/images\\\\000001163.jpg', './mpii/images\\\\000003072.jpg', './mpii/images\\\\000004812.jpg', './mpii/images\\\\000005283.jpg', './mpii/images\\\\000013469.jpg', './mpii/images\\\\000015774.jpg', './mpii/images\\\\000022704.jpg', './mpii/images\\\\000024087.jpg', './mpii/images\\\\000024100.jpg', './mpii/images\\\\000024293.jpg']\n"
     ]
    }
   ],
   "source": [
    "# create an PoseLandmarker object.\n",
    "base_options = python.BaseOptions(model_asset_path= \"./MP_model_bundle/pose_landmarker_heavy.task\")\n",
    "options = vision.PoseLandmarkerOptions(base_options = base_options, output_segmentation_masks=True)\n",
    "detector = vision.PoseLandmarker.create_from_options(options)\n",
    "#print(\"This is output detector\", detector)\n",
    "\n",
    "# load input image\n",
    "N = 10\n",
    "MPII_IMAGES_DIR = \"./mpii/images\"\n",
    "IMAGE_FILES = [os.path.join(MPII_IMAGES_DIR, file) for file in os.listdir(MPII_IMAGES_DIR) if file.endswith(('.jpg'))][:N]\n",
    "ten_images = IMAGE_FILES[:10]\n",
    "print(ten_images)"
   ]
  },
  {
   "cell_type": "code",
   "execution_count": null,
   "id": "633ce94e-3bd3-4a18-91e4-d861e1c6151a",
   "metadata": {},
   "outputs": [],
   "source": []
  }
 ],
 "metadata": {
  "kernelspec": {
   "display_name": "Python 3 (ipykernel)",
   "language": "python",
   "name": "python3"
  },
  "language_info": {
   "codemirror_mode": {
    "name": "ipython",
    "version": 3
   },
   "file_extension": ".py",
   "mimetype": "text/x-python",
   "name": "python",
   "nbconvert_exporter": "python",
   "pygments_lexer": "ipython3",
   "version": "3.11.0"
  }
 },
 "nbformat": 4,
 "nbformat_minor": 5
}
