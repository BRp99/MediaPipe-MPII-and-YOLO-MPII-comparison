{
 "cells": [
  {
   "cell_type": "markdown",
   "id": "2057f7c8-bfee-4851-a45e-243847fe7c10",
   "metadata": {},
   "source": [
    "# Imports"
   ]
  },
  {
   "cell_type": "code",
   "execution_count": 1,
   "id": "6b01c865-7e49-4357-84c0-e98bf19873bd",
   "metadata": {},
   "outputs": [],
   "source": [
    "import scipy.io\n",
    "import os\n",
    "import mediapipe as mp\n",
    "import cv2\n",
    "import numpy as np\n",
    "from mediapipe import solutions\n",
    "from mediapipe.framework.formats import landmark_pb2\n",
    "from mediapipe.tasks import python\n",
    "from mediapipe.tasks.python import vision\n",
    "import matplotlib.pyplot as plt"
   ]
  },
  {
   "cell_type": "code",
   "execution_count": 9,
   "id": "30f78493-d08c-4824-b358-08fe5e3ca71e",
   "metadata": {},
   "outputs": [
    {
     "name": "stdout",
     "output_type": "stream",
     "text": [
      "BASE_OPTIONS BaseOptions(model_asset_path='C:\\\\Users\\\\bp111\\\\OneDrive\\\\Documentos\\\\Code\\\\MediaPipe-MPII-and-YOLO-MPII-comparison\\\\MP_model_bundle\\\\pose_landmarker_heavy.task', model_asset_buffer=None, delegate=None)\n",
      "OPTIONS PoseLandmarkerOptions(base_options=BaseOptions(model_asset_path='C:\\\\Users\\\\bp111\\\\OneDrive\\\\Documentos\\\\Code\\\\MediaPipe-MPII-and-YOLO-MPII-comparison\\\\MP_model_bundle\\\\pose_landmarker_heavy.task', model_asset_buffer=None, delegate=None), running_mode=<VisionTaskRunningMode.IMAGE: 'IMAGE'>, num_poses=1, min_pose_detection_confidence=0.5, min_pose_presence_confidence=0.5, min_tracking_confidence=0.5, output_segmentation_masks=True, result_callback=None)\n"
     ]
    },
    {
     "ename": "RuntimeError",
     "evalue": "Unable to open file at C:\\Python311\\Lib\\site-packages/C:\\Users\\bp111\\OneDrive\\Documentos\\Code\\MediaPipe-MPII-and-YOLO-MPII-comparison\\MP_model_bundle\\pose_landmarker_heavy.task, errno=22",
     "output_type": "error",
     "traceback": [
      "\u001b[1;31m---------------------------------------------------------------------------\u001b[0m",
      "\u001b[1;31mRuntimeError\u001b[0m                              Traceback (most recent call last)",
      "Cell \u001b[1;32mIn[9], line 34\u001b[0m\n\u001b[0;32m     32\u001b[0m options \u001b[38;5;241m=\u001b[39m vision\u001b[38;5;241m.\u001b[39mPoseLandmarkerOptions(base_options \u001b[38;5;241m=\u001b[39m base_options, output_segmentation_masks\u001b[38;5;241m=\u001b[39m\u001b[38;5;28;01mTrue\u001b[39;00m)\n\u001b[0;32m     33\u001b[0m \u001b[38;5;28mprint\u001b[39m(\u001b[38;5;124m\"\u001b[39m\u001b[38;5;124mOPTIONS\u001b[39m\u001b[38;5;124m\"\u001b[39m, options)\n\u001b[1;32m---> 34\u001b[0m detector \u001b[38;5;241m=\u001b[39m \u001b[43mvision\u001b[49m\u001b[38;5;241;43m.\u001b[39;49m\u001b[43mPoseLandmarker\u001b[49m\u001b[38;5;241;43m.\u001b[39;49m\u001b[43mcreate_from_options\u001b[49m\u001b[43m(\u001b[49m\u001b[43moptions\u001b[49m\u001b[43m)\u001b[49m\n\u001b[0;32m     35\u001b[0m \u001b[38;5;66;03m#print(\"This is output detector\", detector)\u001b[39;00m\n\u001b[0;32m     36\u001b[0m \n\u001b[0;32m     37\u001b[0m     \n\u001b[0;32m     38\u001b[0m \u001b[38;5;66;03m# load input image.\u001b[39;00m\n\u001b[0;32m     39\u001b[0m N \u001b[38;5;241m=\u001b[39m \u001b[38;5;241m10\u001b[39m\n",
      "File \u001b[1;32mC:\\Python311\\Lib\\site-packages\\mediapipe\\tasks\\python\\vision\\pose_landmarker.py:319\u001b[0m, in \u001b[0;36mPoseLandmarker.create_from_options\u001b[1;34m(cls, options)\u001b[0m\n\u001b[0;32m    306\u001b[0m   output_streams\u001b[38;5;241m.\u001b[39mappend(\n\u001b[0;32m    307\u001b[0m       \u001b[38;5;124m'\u001b[39m\u001b[38;5;124m:\u001b[39m\u001b[38;5;124m'\u001b[39m\u001b[38;5;241m.\u001b[39mjoin([_SEGMENTATION_MASK_TAG, _SEGMENTATION_MASK_STREAM_NAME])\n\u001b[0;32m    308\u001b[0m   )\n\u001b[0;32m    310\u001b[0m task_info \u001b[38;5;241m=\u001b[39m _TaskInfo(\n\u001b[0;32m    311\u001b[0m     task_graph\u001b[38;5;241m=\u001b[39m_TASK_GRAPH_NAME,\n\u001b[0;32m    312\u001b[0m     input_streams\u001b[38;5;241m=\u001b[39m[\n\u001b[1;32m   (...)\u001b[0m\n\u001b[0;32m    317\u001b[0m     task_options\u001b[38;5;241m=\u001b[39moptions,\n\u001b[0;32m    318\u001b[0m )\n\u001b[1;32m--> 319\u001b[0m \u001b[38;5;28;01mreturn\u001b[39;00m \u001b[38;5;28;43mcls\u001b[39;49m\u001b[43m(\u001b[49m\n\u001b[0;32m    320\u001b[0m \u001b[43m    \u001b[49m\u001b[43mtask_info\u001b[49m\u001b[38;5;241;43m.\u001b[39;49m\u001b[43mgenerate_graph_config\u001b[49m\u001b[43m(\u001b[49m\n\u001b[0;32m    321\u001b[0m \u001b[43m        \u001b[49m\u001b[43menable_flow_limiting\u001b[49m\u001b[38;5;241;43m=\u001b[39;49m\u001b[43moptions\u001b[49m\u001b[38;5;241;43m.\u001b[39;49m\u001b[43mrunning_mode\u001b[49m\n\u001b[0;32m    322\u001b[0m \u001b[43m        \u001b[49m\u001b[38;5;241;43m==\u001b[39;49m\u001b[43m \u001b[49m\u001b[43m_RunningMode\u001b[49m\u001b[38;5;241;43m.\u001b[39;49m\u001b[43mLIVE_STREAM\u001b[49m\n\u001b[0;32m    323\u001b[0m \u001b[43m    \u001b[49m\u001b[43m)\u001b[49m\u001b[43m,\u001b[49m\n\u001b[0;32m    324\u001b[0m \u001b[43m    \u001b[49m\u001b[43moptions\u001b[49m\u001b[38;5;241;43m.\u001b[39;49m\u001b[43mrunning_mode\u001b[49m\u001b[43m,\u001b[49m\n\u001b[0;32m    325\u001b[0m \u001b[43m    \u001b[49m\u001b[43mpackets_callback\u001b[49m\u001b[43m \u001b[49m\u001b[38;5;28;43;01mif\u001b[39;49;00m\u001b[43m \u001b[49m\u001b[43moptions\u001b[49m\u001b[38;5;241;43m.\u001b[39;49m\u001b[43mresult_callback\u001b[49m\u001b[43m \u001b[49m\u001b[38;5;28;43;01melse\u001b[39;49;00m\u001b[43m \u001b[49m\u001b[38;5;28;43;01mNone\u001b[39;49;00m\u001b[43m,\u001b[49m\n\u001b[0;32m    326\u001b[0m \u001b[43m\u001b[49m\u001b[43m)\u001b[49m\n",
      "File \u001b[1;32mC:\\Python311\\Lib\\site-packages\\mediapipe\\tasks\\python\\vision\\core\\base_vision_task_api.py:70\u001b[0m, in \u001b[0;36mBaseVisionTaskApi.__init__\u001b[1;34m(self, graph_config, running_mode, packet_callback)\u001b[0m\n\u001b[0;32m     65\u001b[0m \u001b[38;5;28;01melif\u001b[39;00m packet_callback:\n\u001b[0;32m     66\u001b[0m   \u001b[38;5;28;01mraise\u001b[39;00m \u001b[38;5;167;01mValueError\u001b[39;00m(\n\u001b[0;32m     67\u001b[0m       \u001b[38;5;124m'\u001b[39m\u001b[38;5;124mThe vision task is in image or video mode, a user-defined result \u001b[39m\u001b[38;5;124m'\u001b[39m\n\u001b[0;32m     68\u001b[0m       \u001b[38;5;124m'\u001b[39m\u001b[38;5;124mcallback should not be provided.\u001b[39m\u001b[38;5;124m'\u001b[39m\n\u001b[0;32m     69\u001b[0m   )\n\u001b[1;32m---> 70\u001b[0m \u001b[38;5;28mself\u001b[39m\u001b[38;5;241m.\u001b[39m_runner \u001b[38;5;241m=\u001b[39m \u001b[43m_TaskRunner\u001b[49m\u001b[38;5;241;43m.\u001b[39;49m\u001b[43mcreate\u001b[49m\u001b[43m(\u001b[49m\u001b[43mgraph_config\u001b[49m\u001b[43m,\u001b[49m\u001b[43m \u001b[49m\u001b[43mpacket_callback\u001b[49m\u001b[43m)\u001b[49m\n\u001b[0;32m     71\u001b[0m \u001b[38;5;28mself\u001b[39m\u001b[38;5;241m.\u001b[39m_running_mode \u001b[38;5;241m=\u001b[39m running_mode\n",
      "\u001b[1;31mRuntimeError\u001b[0m: Unable to open file at C:\\Python311\\Lib\\site-packages/C:\\Users\\bp111\\OneDrive\\Documentos\\Code\\MediaPipe-MPII-and-YOLO-MPII-comparison\\MP_model_bundle\\pose_landmarker_heavy.task, errno=22"
     ]
    }
   ],
   "source": [
    "# create function to draw landmarks on image\n",
    "def draw_landmarks_on_image(rgb_image, detection_result):\n",
    "  pose_landmarks_list = detection_result.pose_landmarks\n",
    "  annotated_image = np.copy(rgb_image)\n",
    "\n",
    "  # loop through the detected poses to visualize.\n",
    "  for i in range(len(pose_landmarks_list)):\n",
    "    pose_landmarks = pose_landmarks_list[i]\n",
    "\n",
    "    # draw the pose landmarks.\n",
    "    pose_landmarks_proto = landmark_pb2.NormalizedLandmarkList()\n",
    "    pose_landmarks_proto.landmark.extend([\n",
    "      landmark_pb2.NormalizedLandmark(x=landmark.x, y=landmark.y, z=landmark.z) for landmark in pose_landmarks\n",
    "    ])\n",
    "    solutions.drawing_utils.draw_landmarks(\n",
    "      annotated_image,\n",
    "      pose_landmarks_proto,\n",
    "      solutions.pose.POSE_CONNECTIONS,\n",
    "      solutions.drawing_styles.get_default_pose_landmarks_style())\n",
    "  return annotated_image\n",
    "\n",
    "mp_pose = mp.solutions.pose.Pose(min_detection_confidence=0.5, min_tracking_confidence=0.5)\n",
    "\n",
    "model_path = os.path.abspath(\"./MP_model_bundle/pose_landmarker_heavy.task\")\n",
    "#print(model_path)\n",
    "\n",
    "# CREATE A POSELANDMARKER OBJECT.\n",
    "\n",
    "# specify the path of the model within the model_asset_path parameter.\n",
    "base_options = mp.tasks.BaseOptions(model_asset_path= model_path)\n",
    "print(\"BASE_OPTIONS\", base_options)\n",
    "options = vision.PoseLandmarkerOptions(base_options = base_options, output_segmentation_masks=True)\n",
    "print(\"OPTIONS\", options)\n",
    "detector = vision.PoseLandmarker.create_from_options(options)\n",
    "#print(\"This is output detector\", detector)\n",
    "\n",
    "    \n",
    "# load input image.\n",
    "N = 10\n",
    "MPII_IMAGES_DIR = \"./mpii/images\"\n",
    "IMAGE_FILES = [os.path.join(MPII_IMAGES_DIR, file) for file in os.listdir(MPII_IMAGES_DIR) if file.endswith(('.jpg'))][:N]\n",
    "#print(IMAGE_FILES)\n",
    "\n",
    "#for image_file in IMAGE_FILES:\n",
    "    \n",
    "    #image = mp.Image.create_from_file(image_file)\n",
    "    #print(\"IMAGE\", image)\n",
    "    \n",
    "    #detection_result = detector.process(image)\n",
    "    \n",
    "    #pose_landmarks_list = detection_result.pose_landmarks\n",
    "    \n",
    "    #del image\n",
    "#detector.close()"
   ]
  },
  {
   "cell_type": "code",
   "execution_count": null,
   "id": "633ce94e-3bd3-4a18-91e4-d861e1c6151a",
   "metadata": {},
   "outputs": [],
   "source": []
  }
 ],
 "metadata": {
  "kernelspec": {
   "display_name": "Python 3 (ipykernel)",
   "language": "python",
   "name": "python3"
  },
  "language_info": {
   "codemirror_mode": {
    "name": "ipython",
    "version": 3
   },
   "file_extension": ".py",
   "mimetype": "text/x-python",
   "name": "python",
   "nbconvert_exporter": "python",
   "pygments_lexer": "ipython3",
   "version": "3.11.0"
  }
 },
 "nbformat": 4,
 "nbformat_minor": 5
}
