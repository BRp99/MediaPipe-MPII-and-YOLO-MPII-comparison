{
 "cells": [
  {
   "cell_type": "markdown",
   "id": "2057f7c8-bfee-4851-a45e-243847fe7c10",
   "metadata": {},
   "source": [
    "# Imports"
   ]
  },
  {
   "cell_type": "code",
   "execution_count": 6,
   "id": "6b01c865-7e49-4357-84c0-e98bf19873bd",
   "metadata": {},
   "outputs": [],
   "source": [
    "import os\n",
    "import mediapipe as mp\n",
    "from mediapipe.tasks import python\n",
    "from mediapipe.tasks.python import vision\n",
    "import urllib.request"
   ]
  },
  {
   "cell_type": "code",
   "execution_count": 8,
   "id": "30f78493-d08c-4824-b358-08fe5e3ca71e",
   "metadata": {},
   "outputs": [
    {
     "name": "stdout",
     "output_type": "stream",
     "text": [
      "('./MP_model_bundle/pose_landmarker_heavy.task', <http.client.HTTPMessage object at 0x000001B26FC04DD0>)\n"
     ]
    }
   ],
   "source": [
    "url = \"https://storage.googleapis.com/mediapipe-models/pose_landmarker/pose_landmarker_heavy/float16/1/pose_landmarker_heavy.task\"\n",
    "\n",
    "destination = \"./MP_model_bundle/pose_landmarker_heavy.task\"\n",
    "\n",
    "file= urllib.request.urlretrieve(url, destination)\n",
    "\n",
    "N = 10\n",
    "MPII_IMAGES_DIR = \"./mpii/images\"\n",
    "IMAGE_FILES = [os.path.join(MPII_IMAGES_DIR, file) for file in os.listdir(MPII_IMAGES_DIR) if file.endswith(('.jpg'))][:N]\n"
   ]
  },
  {
   "cell_type": "code",
   "execution_count": null,
   "id": "5c2ee494-90bf-4d79-8030-53d5d73b20db",
   "metadata": {},
   "outputs": [],
   "source": []
  }
 ],
 "metadata": {
  "kernelspec": {
   "display_name": "Python 3 (ipykernel)",
   "language": "python",
   "name": "python3"
  },
  "language_info": {
   "codemirror_mode": {
    "name": "ipython",
    "version": 3
   },
   "file_extension": ".py",
   "mimetype": "text/x-python",
   "name": "python",
   "nbconvert_exporter": "python",
   "pygments_lexer": "ipython3",
   "version": "3.11.0"
  }
 },
 "nbformat": 4,
 "nbformat_minor": 5
}
