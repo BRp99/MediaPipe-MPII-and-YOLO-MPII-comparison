{
 "cells": [
  {
   "cell_type": "markdown",
   "id": "2057f7c8-bfee-4851-a45e-243847fe7c10",
   "metadata": {},
   "source": [
    "# Imports"
   ]
  },
  {
   "cell_type": "code",
   "execution_count": 58,
   "id": "6b01c865-7e49-4357-84c0-e98bf19873bd",
   "metadata": {},
   "outputs": [],
   "source": [
    "import os\n",
    "import mediapipe as mp\n",
    "import cv2\n",
    "import numpy as np\n",
    "from scipy.io import loadmat\n",
    "from time import time"
   ]
  },
  {
   "cell_type": "markdown",
   "id": "7c6e7338-02df-47ef-85ab-4ce28a988fb1",
   "metadata": {},
   "source": [
    "# Code"
   ]
  },
  {
   "cell_type": "code",
   "execution_count": 116,
   "id": "58499117-b9d3-4e05-8817-59ee5f8c06ae",
   "metadata": {},
   "outputs": [],
   "source": [
    "MPII_ANNOTATIONS_FILE_PATH= \"./mpii/annotations/mpii_human_pose.mat\"\n",
    "annotations_load = loadmat(MPII_ANNOTATIONS_FILE_PATH,struct_as_record=False)"
   ]
  },
  {
   "cell_type": "code",
   "execution_count": 117,
   "id": "0204216d-bc58-4582-9b8a-c081595badf9",
   "metadata": {},
   "outputs": [
    {
     "name": "stdout",
     "output_type": "stream",
     "text": [
      "dict_keys(['__header__', '__version__', '__globals__', 'RELEASE'])\n"
     ]
    }
   ],
   "source": [
    "print(annotations_load.keys())"
   ]
  },
  {
   "cell_type": "code",
   "execution_count": 134,
   "id": "db20078c-26cf-4bde-90a5-595664150c72",
   "metadata": {},
   "outputs": [
    {
     "data": {
      "text/plain": [
       "<scipy.io.matlab._mio5_params.mat_struct at 0x192c41497d0>"
      ]
     },
     "execution_count": 134,
     "metadata": {},
     "output_type": "execute_result"
    }
   ],
   "source": [
    "matlab_mpii  = annotations_load['RELEASE'][0,0]\n",
    "annos_mpii = matlab_mpii.annolist[0]\n",
    "annos_mpii"
   ]
  },
  {
   "cell_type": "code",
   "execution_count": 135,
   "id": "bee00102-7aae-4476-82b1-b74ff441c80b",
   "metadata": {},
   "outputs": [
    {
     "ename": "NameError",
     "evalue": "name 'img_idx' is not defined",
     "output_type": "error",
     "traceback": [
      "\u001b[1;31m---------------------------------------------------------------------------\u001b[0m",
      "\u001b[1;31mNameError\u001b[0m                                 Traceback (most recent call last)",
      "Cell \u001b[1;32mIn[135], line 1\u001b[0m\n\u001b[1;32m----> 1\u001b[0m annotation_mpii \u001b[38;5;241m=\u001b[39m matlab_mpii\u001b[38;5;241m.\u001b[39m\u001b[38;5;18m__dict__\u001b[39m[\u001b[38;5;124m'\u001b[39m\u001b[38;5;124mannolist\u001b[39m\u001b[38;5;124m'\u001b[39m][\u001b[38;5;241m0\u001b[39m, \u001b[43mimg_idx\u001b[49m]\n",
      "\u001b[1;31mNameError\u001b[0m: name 'img_idx' is not defined"
     ]
    }
   ],
   "source": []
  },
  {
   "cell_type": "code",
   "execution_count": 122,
   "id": "e01e4fc0-44a7-4339-a047-a58386fbe7dc",
   "metadata": {},
   "outputs": [
    {
     "data": {
      "text/plain": [
       "<scipy.io.matlab._mio5_params.mat_struct at 0x192c4149c50>"
      ]
     },
     "execution_count": 122,
     "metadata": {},
     "output_type": "execute_result"
    }
   ],
   "source": [
    "data[0][0]"
   ]
  },
  {
   "cell_type": "code",
   "execution_count": 146,
   "id": "30f78493-d08c-4824-b358-08fe5e3ca71e",
   "metadata": {},
   "outputs": [
    {
     "ename": "TypeError",
     "evalue": "Pose.__init__() got an unexpected keyword argument 'num_poses'",
     "output_type": "error",
     "traceback": [
      "\u001b[1;31m---------------------------------------------------------------------------\u001b[0m",
      "\u001b[1;31mTypeError\u001b[0m                                 Traceback (most recent call last)",
      "Cell \u001b[1;32mIn[146], line 16\u001b[0m\n\u001b[0;32m     11\u001b[0m BG_COLOR \u001b[38;5;241m=\u001b[39m (\u001b[38;5;241m192\u001b[39m, \u001b[38;5;241m192\u001b[39m, \u001b[38;5;241m192\u001b[39m)\n\u001b[0;32m     15\u001b[0m \u001b[38;5;66;03m# pose model setup with some options\u001b[39;00m\n\u001b[1;32m---> 16\u001b[0m \u001b[38;5;28;01mwith\u001b[39;00m \u001b[43mmp_pose\u001b[49m\u001b[38;5;241;43m.\u001b[39;49m\u001b[43mPose\u001b[49m\u001b[43m(\u001b[49m\n\u001b[0;32m     17\u001b[0m \u001b[43m        \u001b[49m\u001b[43mstatic_image_mode\u001b[49m\u001b[43m \u001b[49m\u001b[38;5;241;43m=\u001b[39;49m\u001b[43m \u001b[49m\u001b[38;5;28;43;01mTrue\u001b[39;49;00m\u001b[43m,\u001b[49m\n\u001b[0;32m     18\u001b[0m \u001b[43m        \u001b[49m\u001b[43mmodel_complexity\u001b[49m\u001b[43m \u001b[49m\u001b[38;5;241;43m=\u001b[39;49m\u001b[43m \u001b[49m\u001b[38;5;241;43m2\u001b[39;49m\u001b[43m,\u001b[49m\n\u001b[0;32m     19\u001b[0m \u001b[43m        \u001b[49m\u001b[43menable_segmentation\u001b[49m\u001b[43m \u001b[49m\u001b[38;5;241;43m=\u001b[39;49m\u001b[43m \u001b[49m\u001b[38;5;28;43;01mTrue\u001b[39;49;00m\u001b[43m,\u001b[49m\n\u001b[0;32m     20\u001b[0m \u001b[43m    \u001b[49m\u001b[43mnum_poses\u001b[49m\u001b[38;5;241;43m=\u001b[39;49m\u001b[38;5;241;43m2\u001b[39;49m\u001b[43m,\u001b[49m\n\u001b[0;32m     21\u001b[0m \u001b[43m        \u001b[49m\u001b[43mmin_detection_confidence\u001b[49m\u001b[43m \u001b[49m\u001b[38;5;241;43m=\u001b[39;49m\u001b[43m \u001b[49m\u001b[38;5;241;43m0.5\u001b[39;49m\u001b[43m)\u001b[49m \u001b[38;5;28;01mas\u001b[39;00m pose:\n\u001b[0;32m     23\u001b[0m     t_initial \u001b[38;5;241m=\u001b[39m time()\n\u001b[0;32m     24\u001b[0m     \u001b[38;5;66;03m# for each image file in the IMAGE_FILES list, the code will read the image\u001b[39;00m\n",
      "\u001b[1;31mTypeError\u001b[0m: Pose.__init__() got an unexpected keyword argument 'num_poses'"
     ]
    }
   ],
   "source": [
    "# use MediaPipe's pose algorithm\n",
    "mp_drawing = mp.solutions.drawing_utils\n",
    "mp_drawing_styles = mp.solutions.drawing_styles\n",
    "mp_pose = mp.solutions.pose\n",
    "mp.tasks.vision.\n",
    "# list of paths to image files to be processed\n",
    "N = 1\n",
    "MPII_IMAGES_DIR = \"./mpii/images\"\n",
    "IMAGE_FILES = [os.path.join(MPII_IMAGES_DIR, file) for file in os.listdir(MPII_IMAGES_DIR) if file.endswith(('.jpg'))][:N]\n",
    "\n",
    "BG_COLOR = (192, 192, 192)\n",
    "\n",
    "\n",
    "\n",
    "# pose model setup with some options\n",
    "with mp_pose.Pose(\n",
    "        static_image_mode = True,\n",
    "        model_complexity = 2,\n",
    "        enable_segmentation = True,\n",
    "    num_poses=2,\n",
    "        min_detection_confidence = 0.5) as pose:\n",
    "\n",
    "    t_initial = time()\n",
    "    # for each image file in the IMAGE_FILES list, the code will read the image\n",
    "    for idx, file in enumerate(IMAGE_FILES):\n",
    "        t = time() - t_initial\n",
    "        N = len(IMAGE_FILES)\n",
    "        n = idx + 1\n",
    "        time_left = (N-n)/n*t\n",
    "        hours = str(round(time_left // (60*60))).zfill(2)\n",
    "        minutes = str(round(time_left // 60)).zfill(2)\n",
    "        seconds = str(round(time_left % 60)).zfill(2)\n",
    "        print(f\"[{n}/{len(IMAGE_FILES)}] | {round(n/len(IMAGE_FILES)*100,4)}% | {hours}:{minutes}:{seconds} left     \", end=\"\\r\")\n",
    "\n",
    "        annotation_mpii = matlab_mpii.__dict__['annolist'][0, idx]\n",
    "        print(annotation_mpii)\n",
    "        image_height, image_width, _ = image.shape\n",
    "        # renders the pose using the MediaPipe\n",
    "        image = cv2.imread(file)\n",
    "        rgb_image = cv2.cvtColor(image, cv2.COLOR_BGR2RGB)\n",
    "        results = pose.process(rgb_image)\n",
    "        # model prints the coordinates\n",
    "        if not results.pose_landmarks:\n",
    "            #print(\"No pose_landmarks detected.\")\n",
    "            continue\n",
    "\n",
    "        # print all landmarks\n",
    "        #for landmark in results.pose_landmarks.landmark:\n",
    "            #print(f'Landmark coordinates: ({landmark.x * image_width}, {landmark.y * image_height})')\n",
    "        #    pass\n",
    "        annotated_image = image.copy()\n",
    "\n",
    "        # draws the segmentation on the image based on the results\n",
    "        condition = np.stack((results.segmentation_mask,) * 3, axis=-1) > 0.1\n",
    "        bg_image = np.zeros(image.shape, dtype=np.uint8)\n",
    "        bg_image[:] = BG_COLOR\n",
    "        annotated_image = np.where(condition, annotated_image, bg_image)\n",
    "\n",
    "        # draw landmarks on image\n",
    "        mp_drawing.draw_landmarks(\n",
    "            annotated_image,\n",
    "            results.pose_landmarks,\n",
    "            mp_pose.POSE_CONNECTIONS,\n",
    "            landmark_drawing_spec = mp_drawing_styles.get_default_pose_landmarks_style())\n",
    "\n",
    "        # save annotaded_image \n",
    "    # create folder 'output' to armazenate annotated_images\n",
    "        output_path = os.path.join(\"output\", f\"annotated_image_{idx}.png\")\n",
    "        cv2.imwrite(output_path, annotated_image)\n",
    "    T = time() - t_initial\n",
    "    print(f\"Took {T} seconds                   \")\n",
    "    cv2.destroyAllWindows()"
   ]
  },
  {
   "cell_type": "code",
   "execution_count": null,
   "id": "906b3ada-1a8c-4527-b3a6-d7c397e068a6",
   "metadata": {},
   "outputs": [],
   "source": [
    "T"
   ]
  },
  {
   "cell_type": "code",
   "execution_count": 78,
   "id": "22830032-340c-43ee-a3e2-873cd720af1f",
   "metadata": {},
   "outputs": [
    {
     "data": {
      "text/plain": [
       "0.15384615384615385"
      ]
     },
     "execution_count": 78,
     "metadata": {},
     "output_type": "execute_result"
    }
   ],
   "source": [
    "2/13"
   ]
  },
  {
   "cell_type": "code",
   "execution_count": 104,
   "id": "41194535-c305-488b-ace8-c2b754ca0154",
   "metadata": {},
   "outputs": [
    {
     "data": {
      "text/plain": [
       "mediapipe.python.solution_base.SolutionOutputs"
      ]
     },
     "execution_count": 104,
     "metadata": {},
     "output_type": "execute_result"
    }
   ],
   "source": [
    "results"
   ]
  },
  {
   "cell_type": "code",
   "execution_count": 140,
   "id": "81cbcbc0-4b03-4279-89b9-0f4b9f7ac5e9",
   "metadata": {},
   "outputs": [
    {
     "data": {
      "text/plain": [
       "array([<scipy.io.matlab._mio5_params.mat_struct object at 0x00000192C40F3990>],\n",
       "      dtype=object)"
      ]
     },
     "execution_count": 140,
     "metadata": {},
     "output_type": "execute_result"
    }
   ],
   "source": [
    "annotation_mpii.annorect[0]"
   ]
  },
  {
   "cell_type": "code",
   "execution_count": 145,
   "id": "7e200d7e-b773-44de-872e-9e712d75a0fc",
   "metadata": {},
   "outputs": [
    {
     "data": {
      "text/plain": [
       "33"
      ]
     },
     "execution_count": 145,
     "metadata": {},
     "output_type": "execute_result"
    }
   ],
   "source": [
    "len(results.pose_landmarks.landmark)"
   ]
  },
  {
   "cell_type": "code",
   "execution_count": null,
   "id": "42110153-9c1f-4d03-a2a6-e39d1570708c",
   "metadata": {},
   "outputs": [],
   "source": []
  }
 ],
 "metadata": {
  "kernelspec": {
   "display_name": "Python 3 (ipykernel)",
   "language": "python",
   "name": "python3"
  },
  "language_info": {
   "codemirror_mode": {
    "name": "ipython",
    "version": 3
   },
   "file_extension": ".py",
   "mimetype": "text/x-python",
   "name": "python",
   "nbconvert_exporter": "python",
   "pygments_lexer": "ipython3",
   "version": "3.11.0"
  }
 },
 "nbformat": 4,
 "nbformat_minor": 5
}
