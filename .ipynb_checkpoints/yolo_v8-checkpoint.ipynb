{
 "cells": [
  {
   "cell_type": "markdown",
   "id": "e37c3591-e1f7-4cd4-a39f-32a1952f0d8d",
   "metadata": {},
   "source": [
    "# Imports"
   ]
  },
  {
   "cell_type": "code",
   "execution_count": 15,
   "id": "79924e74-5b0a-40af-9d6b-ba5635b5d554",
   "metadata": {},
   "outputs": [],
   "source": [
    "from ultralytics import YOLO\n",
    "import os\n",
    "from scipy.io import loadmat\n",
    "import numpy as np\n",
    "import shutil"
   ]
  },
  {
   "cell_type": "code",
   "execution_count": 29,
   "id": "98b5203f-dc5b-43bf-aeb3-0440dcc19c5a",
   "metadata": {},
   "outputs": [
    {
     "name": "stdout",
     "output_type": "stream",
     "text": [
      "\n",
      "image 1/1 C:\\Users\\bp111\\OneDrive\\Documentos\\Code\\MediaPipe-MPII-and-YOLO-MPII-comparison\\mpii\\images\\000111209.jpg: 480x640 1 person, 828.6ms\n",
      "Speed: 3.0ms preprocess, 828.6ms inference, 0.0ms postprocess per image at shape (1, 3, 480, 640)\n",
      "\n",
      "image 1/1 C:\\Users\\bp111\\OneDrive\\Documentos\\Code\\MediaPipe-MPII-and-YOLO-MPII-comparison\\mpii\\images\\000114595.jpg: 384x640 2 persons, 601.1ms\n",
      "Speed: 14.6ms preprocess, 601.1ms inference, 0.0ms postprocess per image at shape (1, 3, 384, 640)\n",
      "\n",
      "image 1/1 C:\\Users\\bp111\\OneDrive\\Documentos\\Code\\MediaPipe-MPII-and-YOLO-MPII-comparison\\mpii\\images\\000120361.jpg: 480x640 11 persons, 782.0ms\n",
      "Speed: 2.8ms preprocess, 782.0ms inference, 0.0ms postprocess per image at shape (1, 3, 480, 640)\n",
      "\n",
      "image 1/1 C:\\Users\\bp111\\OneDrive\\Documentos\\Code\\MediaPipe-MPII-and-YOLO-MPII-comparison\\mpii\\images\\000124344.jpg: 384x640 10 persons, 641.1ms\n",
      "Speed: 0.0ms preprocess, 641.1ms inference, 0.0ms postprocess per image at shape (1, 3, 384, 640)\n",
      "\n",
      "image 1/1 C:\\Users\\bp111\\OneDrive\\Documentos\\Code\\MediaPipe-MPII-and-YOLO-MPII-comparison\\mpii\\images\\000128443.jpg: 384x640 1 person, 632.1ms\n",
      "Speed: 6.1ms preprocess, 632.1ms inference, 0.0ms postprocess per image at shape (1, 3, 384, 640)\n",
      "\n",
      "image 1/1 C:\\Users\\bp111\\OneDrive\\Documentos\\Code\\MediaPipe-MPII-and-YOLO-MPII-comparison\\mpii\\images\\000131987.jpg: 480x640 1 person, 942.9ms\n",
      "Speed: 16.9ms preprocess, 942.9ms inference, 0.0ms postprocess per image at shape (1, 3, 480, 640)\n",
      "\n",
      "image 1/1 C:\\Users\\bp111\\OneDrive\\Documentos\\Code\\MediaPipe-MPII-and-YOLO-MPII-comparison\\mpii\\images\\000133364.jpg: 480x640 7 persons, 754.5ms\n",
      "Speed: 3.0ms preprocess, 754.5ms inference, 0.0ms postprocess per image at shape (1, 3, 480, 640)\n",
      "\n",
      "image 1/1 C:\\Users\\bp111\\OneDrive\\Documentos\\Code\\MediaPipe-MPII-and-YOLO-MPII-comparison\\mpii\\images\\000135363.jpg: 480x640 3 persons, 723.3ms\n",
      "Speed: 0.0ms preprocess, 723.3ms inference, 0.0ms postprocess per image at shape (1, 3, 480, 640)\n",
      "\n",
      "image 1/1 C:\\Users\\bp111\\OneDrive\\Documentos\\Code\\MediaPipe-MPII-and-YOLO-MPII-comparison\\mpii\\images\\000141822.jpg: 384x640 1 person, 625.2ms\n",
      "Speed: 12.3ms preprocess, 625.2ms inference, 0.0ms postprocess per image at shape (1, 3, 384, 640)\n",
      "\n",
      "image 1/1 C:\\Users\\bp111\\OneDrive\\Documentos\\Code\\MediaPipe-MPII-and-YOLO-MPII-comparison\\mpii\\images\\000142573.jpg: 384x640 1 person, 625.8ms\n",
      "Speed: 15.5ms preprocess, 625.8ms inference, 0.0ms postprocess per image at shape (1, 3, 384, 640)\n"
     ]
    },
    {
     "ename": "AttributeError",
     "evalue": "'list' object has no attribute 'pred'",
     "output_type": "error",
     "traceback": [
      "\u001b[1;31m---------------------------------------------------------------------------\u001b[0m",
      "\u001b[1;31mAttributeError\u001b[0m                            Traceback (most recent call last)",
      "Cell \u001b[1;32mIn[29], line 29\u001b[0m\n\u001b[0;32m     26\u001b[0m \u001b[38;5;66;03m# acess and print predictid keypoints\u001b[39;00m\n\u001b[0;32m     27\u001b[0m \u001b[38;5;28;01mfor\u001b[39;00m result \u001b[38;5;129;01min\u001b[39;00m results_list:\n\u001b[1;32m---> 29\u001b[0m     keypoints \u001b[38;5;241m=\u001b[39m \u001b[43mresults\u001b[49m\u001b[38;5;241;43m.\u001b[39;49m\u001b[43mpred\u001b[49m[\u001b[38;5;241m0\u001b[39m][\u001b[38;5;124m'\u001b[39m\u001b[38;5;124mkeypoints\u001b[39m\u001b[38;5;124m'\u001b[39m]\n\u001b[0;32m     30\u001b[0m     \u001b[38;5;28mprint\u001b[39m(\u001b[38;5;124m\"\u001b[39m\u001b[38;5;124mKeypoints previstos:\u001b[39m\u001b[38;5;124m\"\u001b[39m, keypoints)\n\u001b[0;32m     33\u001b[0m \u001b[38;5;28;01mdel\u001b[39;00m model\n",
      "\u001b[1;31mAttributeError\u001b[0m: 'list' object has no attribute 'pred'"
     ]
    }
   ],
   "source": [
    "# load model YOLO v8\n",
    "model = YOLO(\"yolov8m-pose.pt\")\n",
    "\n",
    "# configurations\n",
    "N = 10\n",
    "MPII_IMAGES_DIR = \"./mpii/images\"\n",
    "#IMAGE_FILES = [os.path.join(MPII_IMAGES_DIR, file) for file in os.listdir(MPII_IMAGES_DIR) if file.endswith(('.jpg'))][:N]\n",
    "yolo_images_dir = \"./YOLO_images\"\n",
    "\n",
    "count = 0\n",
    "results_list = []\n",
    "\n",
    "\n",
    "for file in os.listdir(MPII_IMAGES_DIR):\n",
    "    if file.endswith('.jpg'):\n",
    "        image_file = os.path.join(MPII_IMAGES_DIR, file)\n",
    "        shutil.copy(image_file, yolo_images_dir)\n",
    "        \n",
    "        # execute detection for YOLO_images directory\n",
    "        results = model(source=image_file, show=False, conf=0.3, save=False)\n",
    "        results_list.append(results)\n",
    "        #print(\"RESULTS LIST\", results_list)\n",
    "        count += 1\n",
    "        if count >= N:\n",
    "            break\n",
    "# acess and print predictid keypoints\n",
    "for result in results_list:\n",
    "    for result in results:\n",
    "        # Acessar os keypoints previstos\n",
    "        keypoints = result.keypoints\n",
    "        # Imprimir os keypoints previstos\n",
    "        print(\"Keypoints previstos:\", keypoints)\n",
    "\n",
    "\n",
    "del model\n",
    "\n",
    "\n",
    "\n",
    "# USE ANNOTATION MPII\n",
    "#annotations_data = loadmat(\"./mpii/annotations/mpii_human_pose.mat\")\n",
    "\n",
    "#nnolist_test = annotations_data['RELEASE'] ['annolist']\n",
    "#print(\"ANOOOOOO\", annotations_data)\n",
    "#print(\"Data Structure annolist test\", annolist_test)\n",
    "# annolist_test  two-dimensional array of structure"
   ]
  },
  {
   "cell_type": "code",
   "execution_count": null,
   "id": "db95dcc3-7f69-4a01-a873-388c606f4ed8",
   "metadata": {},
   "outputs": [],
   "source": []
  }
 ],
 "metadata": {
  "kernelspec": {
   "display_name": "Python 3 (ipykernel)",
   "language": "python",
   "name": "python3"
  },
  "language_info": {
   "codemirror_mode": {
    "name": "ipython",
    "version": 3
   },
   "file_extension": ".py",
   "mimetype": "text/x-python",
   "name": "python",
   "nbconvert_exporter": "python",
   "pygments_lexer": "ipython3",
   "version": "3.11.0"
  }
 },
 "nbformat": 4,
 "nbformat_minor": 5
}
