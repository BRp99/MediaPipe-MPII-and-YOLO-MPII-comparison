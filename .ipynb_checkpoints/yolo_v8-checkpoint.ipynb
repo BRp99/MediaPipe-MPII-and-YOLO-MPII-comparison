{
 "cells": [
  {
   "cell_type": "markdown",
   "id": "e37c3591-e1f7-4cd4-a39f-32a1952f0d8d",
   "metadata": {},
   "source": [
    "# Imports"
   ]
  },
  {
   "cell_type": "code",
   "execution_count": 25,
   "id": "79924e74-5b0a-40af-9d6b-ba5635b5d554",
   "metadata": {},
   "outputs": [],
   "source": [
    "from ultralytics import YOLO\n",
    "import os\n",
    "from scipy.io import loadmat"
   ]
  },
  {
   "cell_type": "code",
   "execution_count": 32,
   "id": "98b5203f-dc5b-43bf-aeb3-0440dcc19c5a",
   "metadata": {},
   "outputs": [
    {
     "name": "stdout",
     "output_type": "stream",
     "text": [
      "\n",
      "image 1/1 C:\\Users\\bp111\\OneDrive\\Documentos\\Code\\MediaPipe-MPII-and-YOLO-MPII-comparison\\mpii\\images\\000001163.jpg: 384x640 2 persons, 648.1ms\n",
      "Speed: 3.0ms preprocess, 648.1ms inference, 15.6ms postprocess per image at shape (1, 3, 384, 640)\n",
      "RECTIIIIIII [[array([[array([[1]], dtype=uint8)]], dtype=object)]\n",
      " [array([[array([[1],\n",
      "                 [2]], dtype=uint8)]], dtype=object)]\n",
      " [array([[array([[1]], dtype=uint8)]], dtype=object)]\n",
      " ...\n",
      " [array([[array([[5]], dtype=uint8), array([[1],\n",
      "                                            [2],\n",
      "                                            [3],\n",
      "                                            [4]], dtype=uint8)]], dtype=object)]\n",
      " [array([[array([[1],\n",
      "                 [2]], dtype=uint8)]], dtype=object)]\n",
      " [array([[array([[1],\n",
      "                 [2]], dtype=uint8)]], dtype=object)]]\n"
     ]
    }
   ],
   "source": [
    "# load model\n",
    "model = YOLO(\"yolov8m-pose.pt\")\n",
    "\n",
    "# configurations\n",
    "N = 1\n",
    "MPII_IMAGES_DIR = \"./mpii/images\"\n",
    "IMAGE_FILES = [os.path.join(MPII_IMAGES_DIR, file) for file in os.listdir(MPII_IMAGES_DIR) if file.endswith(('.jpg'))][:N]\n",
    "\n",
    "# iterate for each image\n",
    "for image_file in IMAGE_FILES:\n",
    "    # execute\n",
    "    results = model(source=image_file, show=True, conf=0.3, save=False)\n",
    "\n",
    "del model\n",
    "\n",
    "# extract groups of people\n",
    "# here I extract groups of people using the getMultiPersonGroups function from the MPII assessment toolset. This is done by loading the groups from a previously generated file.\n",
    "data = loadmat('./mpii/eval/groups_v12.mat')\n",
    "groups = data[\"groups\"]\n",
    "\n",
    "# acess data\n",
    "imgidxs_multi_test = data['groups'] # this is a numpy matrix with arrays of arrays.\n",
    "# each entry in this matrix corresponds to a group of people in an image. Within each group, there may be one or more arrays, each representing the index of an image.\n",
    "\n",
    "# indicates the indices of rectangles of people within each group\n",
    "rectidxs_multi_test = data['groups']\n",
    "print(\"RECTIIIIIII\",rectidxs_multi_test)\n"
   ]
  },
  {
   "cell_type": "code",
   "execution_count": null,
   "id": "db95dcc3-7f69-4a01-a873-388c606f4ed8",
   "metadata": {},
   "outputs": [],
   "source": []
  }
 ],
 "metadata": {
  "kernelspec": {
   "display_name": "Python 3 (ipykernel)",
   "language": "python",
   "name": "python3"
  },
  "language_info": {
   "codemirror_mode": {
    "name": "ipython",
    "version": 3
   },
   "file_extension": ".py",
   "mimetype": "text/x-python",
   "name": "python",
   "nbconvert_exporter": "python",
   "pygments_lexer": "ipython3",
   "version": "3.11.0"
  }
 },
 "nbformat": 4,
 "nbformat_minor": 5
}
