{
 "cells": [
  {
   "cell_type": "markdown",
   "id": "2057f7c8-bfee-4851-a45e-243847fe7c10",
   "metadata": {},
   "source": [
    "# Imports"
   ]
  },
  {
   "cell_type": "code",
   "execution_count": 12,
   "id": "6b01c865-7e49-4357-84c0-e98bf19873bd",
   "metadata": {},
   "outputs": [],
   "source": [
    "import scipy.io\n",
    "import os\n",
    "import mediapipe as mp\n",
    "import cv2\n",
    "import numpy as np\n",
    "from mediapipe import solutions\n",
    "from mediapipe.framework.formats import landmark_pb2\n",
    "from mediapipe.tasks import python\n",
    "from mediapipe.tasks.python import vision\n",
    "#import matplotlib.pyplot as plt\n",
    "import shutil"
   ]
  },
  {
   "cell_type": "code",
   "execution_count": 77,
   "id": "30f78493-d08c-4824-b358-08fe5e3ca71e",
   "metadata": {},
   "outputs": [],
   "source": [
    "# LOAD TEST IMAGES\n",
    "\n",
    "N = 10\n",
    "MPII_IMAGES_DIR = \"./mpii/images\"\n",
    "#IMAGE_FILES = [os.path.join(MPII_IMAGES_DIR, file) for file in os.listdir(MPII_IMAGES_DIR) if file.endswith(('.jpg'))][:N]\n",
    "#print(IMAGE_FILES)\n",
    "MEDIAPIPE_IMAGES_DIR = \"./MEDIAPIPE_images\"\n",
    "\n",
    "if not os.path.exists(MEDIAPIPE_IMAGES_DIR):\n",
    "    os.makedirs(MEDIAPIPE_IMAGES_DIR)\n",
    "\n",
    "def detect_pose(image_path):\n",
    "    mp_pose = mp.solutions.pose\n",
    "    pose = mp_pose.Pose(static_image_mode=True, min_detection_confidence=0.5)\n",
    "    \n",
    "    image = cv2.imread(image_path)\n",
    "    image_rgb = cv2.cvtColor(image, cv2.COLOR_BGR2RGB)\n",
    "    \n",
    "    results = pose.process(image_rgb)\n",
    "    \n",
    "    # draw landmarks in image pose\n",
    "    if results.pose_landmarks:\n",
    "        mp_drawing = mp.solutions.drawing_utils\n",
    "        annotated_image = image.copy()\n",
    "        mp_drawing.draw_landmarks(annotated_image, results.pose_landmarks, mp_pose.POSE_CONNECTIONS)\n",
    "\n",
    "        output_dir = os.path.join(MEDIAPIPE_IMAGES_DIR, 'output')\n",
    "        if not os.path.exists(output_dir):\n",
    "            os.makedirs(output_dir)\n",
    "        \n",
    "        # save image with landmarks inside dir'output'\n",
    "        output_path = os.path.join(output_dir, f'annotated_{os.path.basename(image_path)}')\n",
    "        cv2.imwrite(output_path, annotated_image)\n",
    "    else:\n",
    "        shutil.copy(image_path, MEDIAPIPE_IMAGES_DIR)\n",
    "    pose.close()\n",
    "\n",
    "#count = 0\n",
    "\n",
    "#for file in os.listdir(MPII_IMAGES_DIR):\n",
    "    #if file.endswith('.jpg'):\n",
    "        #image_file = os.path.join(MPII_IMAGES_DIR, file)\n",
    "        #if count <= N:\n",
    "            #shutil.copy(image_file, MEDIAPIPE_IMAGES_DIR)\n",
    "            #detect_pose(image_file)\n",
    "            #count += 1\n",
    "        #else:\n",
    "            #break"
   ]
  },
  {
   "cell_type": "code",
   "execution_count": null,
   "id": "633ce94e-3bd3-4a18-91e4-d861e1c6151a",
   "metadata": {},
   "outputs": [],
   "source": []
  }
 ],
 "metadata": {
  "kernelspec": {
   "display_name": "Python 3 (ipykernel)",
   "language": "python",
   "name": "python3"
  },
  "language_info": {
   "codemirror_mode": {
    "name": "ipython",
    "version": 3
   },
   "file_extension": ".py",
   "mimetype": "text/x-python",
   "name": "python",
   "nbconvert_exporter": "python",
   "pygments_lexer": "ipython3",
   "version": "3.11.0"
  }
 },
 "nbformat": 4,
 "nbformat_minor": 5
}
