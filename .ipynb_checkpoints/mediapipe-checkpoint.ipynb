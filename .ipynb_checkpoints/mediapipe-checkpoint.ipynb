{
 "cells": [
  {
   "cell_type": "markdown",
   "id": "2057f7c8-bfee-4851-a45e-243847fe7c10",
   "metadata": {},
   "source": [
    "# Imports"
   ]
  },
  {
   "cell_type": "code",
   "execution_count": 58,
   "id": "6b01c865-7e49-4357-84c0-e98bf19873bd",
   "metadata": {},
   "outputs": [],
   "source": [
    "import os\n",
    "import mediapipe as mp\n",
    "import cv2\n",
    "import numpy as np\n",
    "from scipy.io import loadmat\n",
    "from time import time"
   ]
  },
  {
   "cell_type": "markdown",
   "id": "7c6e7338-02df-47ef-85ab-4ce28a988fb1",
   "metadata": {},
   "source": [
    "# Code"
   ]
  },
  {
   "cell_type": "code",
   "execution_count": 80,
   "id": "30f78493-d08c-4824-b358-08fe5e3ca71e",
   "metadata": {},
   "outputs": [
    {
     "name": "stdout",
     "output_type": "stream",
     "text": [
      "Took 11.152077198028564 seconds                   \n"
     ]
    }
   ],
   "source": [
    "# use MediaPipe's pose algorithm\n",
    "mp_drawing = mp.solutions.drawing_utils\n",
    "mp_drawing_styles = mp.solutions.drawing_styles\n",
    "mp_pose = mp.solutions.pose\n",
    "\n",
    "# list of paths to image files to be processed\n",
    "N = 100\n",
    "MPII_IMAGES_DIR = \"./mpii/images\"\n",
    "IMAGE_FILES = [os.path.join(MPII_IMAGES_DIR, file) for file in os.listdir(MPII_IMAGES_DIR) if file.endswith(('.jpg'))][:N]\n",
    "\n",
    "BG_COLOR = (192, 192, 192)\n",
    "\n",
    "MPII_ANNOTATIONS_FILE_PATH= \"./mpii/annotations/mpii_human_pose.mat\"\n",
    "# pose model setup with some options\n",
    "with mp_pose.Pose(\n",
    "        static_image_mode = True,\n",
    "        model_complexity = 2,\n",
    "        enable_segmentation = True,\n",
    "        min_detection_confidence = 0.5) as pose:\n",
    "\n",
    "    t_initial = time()\n",
    "    # for each image file in the IMAGE_FILES list, the code will read the image\n",
    "    for idx, file in enumerate(IMAGE_FILES):\n",
    "        t = time() - t_initial\n",
    "        N = len(IMAGE_FILES)\n",
    "        n = idx + 1\n",
    "        time_left = (N-n)/n*t\n",
    "        hours = str(round(time_left // (60*60))).zfill(2)\n",
    "        minutes = str(round(time_left // 60)).zfill(2)\n",
    "        seconds = str(round(time_left % 60)).zfill(2)\n",
    "        print(f\"[{n}/{len(IMAGE_FILES)}] | {round(n/len(IMAGE_FILES)*100,4)}% | {hours}:{minutes}:{seconds} left     \", end=\"\\r\")\n",
    "        \n",
    "        \n",
    "        image = cv2.imread(file)\n",
    "        #image_height, image_width, _ = image.shape\n",
    "\n",
    "        # renders the pose using the MediaPipe\n",
    "        rgb_image = cv2.cvtColor(image, cv2.COLOR_BGR2RGB)\n",
    "        results = pose.process(rgb_image)\n",
    "        \n",
    "        # model prints the coordinates\n",
    "        if not results.pose_landmarks:\n",
    "            #print(\"No pose_landmarks detected.\")\n",
    "            continue\n",
    "\n",
    "        # print all landmarks\n",
    "        #for landmark in results.pose_landmarks.landmark:\n",
    "            #print(f'Landmark coordinates: ({landmark.x * image_width}, {landmark.y * image_height})')\n",
    "        #    pass\n",
    "        #annotated_image = image.copy()\n",
    "\n",
    "        # draws the segmentation on the image based on the results\n",
    "        #condition = np.stack((results.segmentation_mask,) * 3, axis=-1) > 0.1\n",
    "       # bg_image = np.zeros(image.shape, dtype=np.uint8)\n",
    "        #bg_image[:] = BG_COLOR\n",
    "        #annotated_image = np.where(condition, annotated_image, bg_image)\n",
    "\n",
    "        # draw landmarks on image\n",
    "       # mp_drawing.draw_landmarks(\n",
    "        #    annotated_image,\n",
    "        #    results.pose_landmarks,\n",
    "       #     mp_pose.POSE_CONNECTIONS,\n",
    "       #     landmark_drawing_spec = mp_drawing_styles.get_default_pose_landmarks_style())\n",
    "\n",
    "        # save annotaded_image \n",
    "    # create folder 'output' to armazenate annotated_images\n",
    "        #output_path = os.path.join(\"output\", f\"annotated_image_{idx}.png\")\n",
    "        #cv2.imwrite(output_path, annotated_image)\n",
    "    T = time() - t_initial\n",
    "    print(f\"Took {T} seconds                   \")\n",
    "    cv2.destroyAllWindows()"
   ]
  },
  {
   "cell_type": "code",
   "execution_count": null,
   "id": "906b3ada-1a8c-4527-b3a6-d7c397e068a6",
   "metadata": {},
   "outputs": [],
   "source": [
    "T"
   ]
  },
  {
   "cell_type": "code",
   "execution_count": 78,
   "id": "22830032-340c-43ee-a3e2-873cd720af1f",
   "metadata": {},
   "outputs": [
    {
     "data": {
      "text/plain": [
       "0.15384615384615385"
      ]
     },
     "execution_count": 78,
     "metadata": {},
     "output_type": "execute_result"
    }
   ],
   "source": [
    "2/13"
   ]
  },
  {
   "cell_type": "code",
   "execution_count": null,
   "id": "41194535-c305-488b-ace8-c2b754ca0154",
   "metadata": {},
   "outputs": [],
   "source": []
  }
 ],
 "metadata": {
  "kernelspec": {
   "display_name": "Python 3 (ipykernel)",
   "language": "python",
   "name": "python3"
  },
  "language_info": {
   "codemirror_mode": {
    "name": "ipython",
    "version": 3
   },
   "file_extension": ".py",
   "mimetype": "text/x-python",
   "name": "python",
   "nbconvert_exporter": "python",
   "pygments_lexer": "ipython3",
   "version": "3.11.0"
  }
 },
 "nbformat": 4,
 "nbformat_minor": 5
}
