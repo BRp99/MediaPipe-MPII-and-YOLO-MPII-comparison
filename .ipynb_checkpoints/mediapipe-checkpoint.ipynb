{
 "cells": [
  {
   "cell_type": "markdown",
   "id": "2057f7c8-bfee-4851-a45e-243847fe7c10",
   "metadata": {},
   "source": [
    "# Imports"
   ]
  },
  {
   "cell_type": "code",
   "execution_count": 2,
   "id": "6b01c865-7e49-4357-84c0-e98bf19873bd",
   "metadata": {},
   "outputs": [],
   "source": [
    "import os\n",
    "import mediapipe as mp\n",
    "import cv2\n",
    "import numpy as np\n",
    "from mediapipe import solutions\n",
    "from mediapipe.framework.formats import landmark_pb2\n",
    "from mediapipe.tasks import python\n",
    "from mediapipe.tasks.python import vision\n",
    "import matplotlib.pyplot as plt"
   ]
  },
  {
   "cell_type": "code",
   "execution_count": 1,
   "id": "30f78493-d08c-4824-b358-08fe5e3ca71e",
   "metadata": {},
   "outputs": [
    {
     "ename": "NameError",
     "evalue": "name 'python' is not defined",
     "output_type": "error",
     "traceback": [
      "\u001b[1;31m---------------------------------------------------------------------------\u001b[0m",
      "\u001b[1;31mNameError\u001b[0m                                 Traceback (most recent call last)",
      "Cell \u001b[1;32mIn[1], line 24\u001b[0m\n\u001b[0;32m     19\u001b[0m   \u001b[38;5;28;01mreturn\u001b[39;00m annotated_image\n\u001b[0;32m     22\u001b[0m \u001b[38;5;66;03m# create an PoseLandmarker object.\u001b[39;00m\n\u001b[0;32m     23\u001b[0m \u001b[38;5;66;03m# specify the path of the model within the model_asset_path parameter\u001b[39;00m\n\u001b[1;32m---> 24\u001b[0m base_options \u001b[38;5;241m=\u001b[39m \u001b[43mpython\u001b[49m\u001b[38;5;241m.\u001b[39mBaseOptions(model_asset_path\u001b[38;5;241m=\u001b[39m \u001b[38;5;124m\"\u001b[39m\u001b[38;5;124m./MP_model_bundle/pose_landmarker_heavy.task\u001b[39m\u001b[38;5;124m\"\u001b[39m)\n\u001b[0;32m     25\u001b[0m options \u001b[38;5;241m=\u001b[39m vision\u001b[38;5;241m.\u001b[39mPoseLandmarkerOptions(base_options \u001b[38;5;241m=\u001b[39m base_options, output_segmentation_masks\u001b[38;5;241m=\u001b[39m\u001b[38;5;28;01mTrue\u001b[39;00m)\n\u001b[0;32m     26\u001b[0m detector \u001b[38;5;241m=\u001b[39m vision\u001b[38;5;241m.\u001b[39mPoseLandmarker\u001b[38;5;241m.\u001b[39mcreate_from_options(options)\n",
      "\u001b[1;31mNameError\u001b[0m: name 'python' is not defined"
     ]
    }
   ],
   "source": [
    "def draw_landmarks_on_image(rgb_image, detection_result):\n",
    "  pose_landmarks_list = detection_result.pose_landmarks\n",
    "  annotated_image = np.copy(rgb_image)\n",
    "\n",
    "  # loop through the detected poses to visualize.\n",
    "  for i in range(len(pose_landmarks_list)):\n",
    "    pose_landmarks = pose_landmarks_list[i]\n",
    "\n",
    "    # Draw the pose landmarks.\n",
    "    pose_landmarks_proto = landmark_pb2.NormalizedLandmarkList()\n",
    "    pose_landmarks_proto.landmark.extend([\n",
    "      landmark_pb2.NormalizedLandmark(x=landmark.x, y=landmark.y, z=landmark.z) for landmark in pose_landmarks\n",
    "    ])\n",
    "    solutions.drawing_utils.draw_landmarks(\n",
    "      annotated_image,\n",
    "      pose_landmarks_proto,\n",
    "      solutions.pose.POSE_CONNECTIONS,\n",
    "      solutions.drawing_styles.get_default_pose_landmarks_style())\n",
    "  return annotated_image\n",
    "\n",
    "\n",
    "# create an PoseLandmarker object.\n",
    "# specify the path of the model within the model_asset_path parameter\n",
    "base_options = python.BaseOptions(model_asset_path= \"./MP_model_bundle/pose_landmarker_heavy.task\")\n",
    "options = vision.PoseLandmarkerOptions(base_options = base_options, output_segmentation_masks=True)\n",
    "detector = vision.PoseLandmarker.create_from_options(options)\n",
    "#print(\"This is output detector\", detector)\n",
    "\n",
    "# load input image\n",
    "N = 10\n",
    "MPII_IMAGES_DIR = \"./mpii/images\"\n",
    "IMAGE_FILES = [os.path.join(MPII_IMAGES_DIR, file) for file in os.listdir(MPII_IMAGES_DIR) if file.endswith(('.jpg'))][:N]\n",
    "\n",
    "for image_file in IMAGE_FILES:\n",
    "    # load input image\n",
    "    image = mp.Image.create_from_file(image_file)\n",
    "    # detect pose landmarks from the input image\n",
    "    detection_result = detector.detect(image)\n",
    "    # visualize the detector result with matplotlib\n",
    "    annotated_image = draw_landmarks_on_image(image.numpy_view(), detection_result)\n",
    "    plt.imshow(annotated_image)\n",
    "    plt.show()\n",
    "\n",
    "    # clear memory by releasing the image\n",
    "    del image"
   ]
  },
  {
   "cell_type": "code",
   "execution_count": null,
   "id": "633ce94e-3bd3-4a18-91e4-d861e1c6151a",
   "metadata": {},
   "outputs": [],
   "source": []
  }
 ],
 "metadata": {
  "kernelspec": {
   "display_name": "Python 3 (ipykernel)",
   "language": "python",
   "name": "python3"
  },
  "language_info": {
   "codemirror_mode": {
    "name": "ipython",
    "version": 3
   },
   "file_extension": ".py",
   "mimetype": "text/x-python",
   "name": "python",
   "nbconvert_exporter": "python",
   "pygments_lexer": "ipython3",
   "version": "3.11.0"
  }
 },
 "nbformat": 4,
 "nbformat_minor": 5
}
