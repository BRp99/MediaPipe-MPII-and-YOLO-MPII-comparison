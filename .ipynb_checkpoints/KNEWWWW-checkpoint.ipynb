{
 "cells": [
  {
   "cell_type": "code",
   "execution_count": null,
   "id": "b71312ab-beac-4bb5-8938-4359f94d8ec7",
   "metadata": {},
   "outputs": [],
   "source": [
    "# create function to draw landmarks on image\n",
    "#def draw_landmarks_on_image(rgb_image, detection_result):\n",
    "  #pose_landmarks_list = detection_result.pose_landmarks\n",
    "  #annotated_image = np.copy(rgb_image)\n",
    "\n",
    "  # loop through the detected poses to visualize.\n",
    "  #for i in range(len(pose_landmarks_list)):\n",
    "    #pose_landmarks = pose_landmarks_list[i]\n",
    "\n",
    "    # draw the pose landmarks.\n",
    "    #pose_landmarks_proto = landmark_pb2.NormalizedLandmarkList()\n",
    "    #pose_landmarks_proto.landmark.extend([\n",
    "      #landmark_pb2.NormalizedLandmark(x=landmark.x, y=landmark.y, z=landmark.z) for landmark in pose_landmarks\n",
    "    #])\n",
    "    #solutions.drawing_utils.draw_landmarks(\n",
    "      #annotated_image,\n",
    "      #pose_landmarks_proto,\n",
    "      #solutions.pose.POSE_CONNECTIONS,\n",
    "      #solutions.drawing_styles.get_default_pose_landmarks_style())\n",
    "  #return annotated_image\n",
    "\n",
    "\n",
    "#mp_pose = mp.solutions.pose.Pose(min_detection_confidence=0.5, min_tracking_confidence=0.5)\n",
    "#print(mp_pose)\n",
    "#model_path = os.path.abspath(\"./MP_model_bundle/pose_landmarker_heavy.tflite\")\n",
    "#print(model_path)\n",
    "\n",
    "#detector = mp_pose.Pose(min_detection_confidence=0.5, model_complexity=2, model_path=model_path)\n",
    "#print(\"detector\",detector)\n",
    "\n",
    "# CREATE A POSELANDMARKER OBJECT.\n",
    "\n",
    "# specify the path of the model within the model_asset_path parameter.\n",
    "#base_options = python.BaseOptions(model_asset_path= model_path)\n",
    "#print(\"BASE_OPTIONS\", base_options)\n",
    "#options = vision.PoseLandmarkerOptions(base_options = base_options, output_segmentation_masks=True)\n",
    "#print(\"OPTIONS\", options)\n",
    "#detector = vision.PoseLandmarker.create_from_options(options)\n",
    "#print(\"This is output detector\", detector)\n",
    "\n",
    "\n",
    "\n",
    "\n",
    "#execute detection for MP_images directory\n",
    "        #image = mp.Image.create_from_file(image_file)\n",
    "        #print(\"IMAGE\", mp_image)\n",
    "        \n",
    "    \n",
    "        #detection_result = detector.process(mp_image)\n",
    "        #print(\"DETECTIONS RESULT!\", detection_result)\n",
    "        #pose_landmarks_lst = detection_result.pose_landmarks\n",
    "    \n",
    "        #del mp_image\n",
    "\n"
   ]
  }
 ],
 "metadata": {
  "kernelspec": {
   "display_name": "Python 3 (ipykernel)",
   "language": "python",
   "name": "python3"
  },
  "language_info": {
   "codemirror_mode": {
    "name": "ipython",
    "version": 3
   },
   "file_extension": ".py",
   "mimetype": "text/x-python",
   "name": "python",
   "nbconvert_exporter": "python",
   "pygments_lexer": "ipython3",
   "version": "3.11.0"
  }
 },
 "nbformat": 4,
 "nbformat_minor": 5
}
